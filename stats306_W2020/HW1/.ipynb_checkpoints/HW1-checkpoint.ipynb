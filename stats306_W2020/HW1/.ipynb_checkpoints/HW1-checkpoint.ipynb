{
 "cells": [
  {
   "cell_type": "markdown",
   "metadata": {},
   "source": [
    "## STATS 306 WI 2020, HW 1, _25 points_\n",
    "\n",
    "Assigned: 01/16/2020\n",
    "\n",
    "Due: 01/30/2020\n",
    "\n",
    "## Read these instructions completely in order to receive full credit\n",
    "\n",
    "* Before you submit the problem set, make sure everything runs as expected. Go to the menu bar at the top of Jupyter Notebook and click `Kernel > Restart & Run All` . Your code should run from top to bottom with no errors. Failure to do this will result in loss of points.\n",
    "\n",
    "* Each problem has their own answer cell. So write or code your answer to their designated cell. If you want to add addtional cells make sure to add them just below the designated cell.\n",
    "\n",
    "\n",
    "* After you done with running your code, use `Ctrl` or `Command` + `p` then click `save as pdf` to save your homework as pdf file. Do not use pdf exporter feature of jupyter! You are not going to upload your `.ipynb` file we just need the `.pdf`."
   ]
  },
  {
   "cell_type": "markdown",
   "metadata": {},
   "source": [
    "### Your uniqe id: `write here`"
   ]
  },
  {
   "cell_type": "markdown",
   "metadata": {},
   "source": [
    "### Problem 1, _5 points_"
   ]
  },
  {
   "cell_type": "markdown",
   "metadata": {},
   "source": [
    "**(1)** What does **tidy** data mean? _1 point_"
   ]
  },
  {
   "cell_type": "markdown",
   "metadata": {},
   "source": []
  },
  {
   "cell_type": "markdown",
   "metadata": {},
   "source": [
    "**(2)** **Visualization** and **Modelling** are two main engine of knowledge generation. Write one strength and one weakness of each. _2 points_"
   ]
  },
  {
   "cell_type": "markdown",
   "metadata": {},
   "source": []
  },
  {
   "cell_type": "markdown",
   "metadata": {},
   "source": [
    "**(3)** **R** is a popular programming language for doing data science. Name two other programming languages often used on data science projects. _1 point_ "
   ]
  },
  {
   "cell_type": "markdown",
   "metadata": {},
   "source": []
  },
  {
   "cell_type": "markdown",
   "metadata": {},
   "source": [
    "**(4)** Name two types of non-rectangular data. _1 point_"
   ]
  },
  {
   "cell_type": "markdown",
   "metadata": {},
   "source": []
  },
  {
   "cell_type": "markdown",
   "metadata": {},
   "source": [
    "### Problem 2, _5 points_"
   ]
  },
  {
   "cell_type": "markdown",
   "metadata": {},
   "source": [
    "**(1)** Write the command to install the package `tidyverse`. _1 point_"
   ]
  },
  {
   "cell_type": "code",
   "execution_count": null,
   "metadata": {},
   "outputs": [],
   "source": []
  },
  {
   "cell_type": "markdown",
   "metadata": {},
   "source": [
    "**(2)** Write the command to get help on the `mpg` data set. _1 point_"
   ]
  },
  {
   "cell_type": "code",
   "execution_count": null,
   "metadata": {},
   "outputs": [],
   "source": []
  },
  {
   "cell_type": "markdown",
   "metadata": {},
   "source": [
    "**(3)** To create a scatterplot using `displ` and `hwy` variables in the mpg data\n",
    "frame, Charlie uses the following command\n",
    "\n",
    "```\n",
    "ggplot(data = mpg) +\n",
    "    geom_point(mapping = (x = displ, y = hwy))\n",
    "```\n",
    "\n",
    "Fix Charlie's code and type it below. _2 points_"
   ]
  },
  {
   "cell_type": "code",
   "execution_count": null,
   "metadata": {},
   "outputs": [],
   "source": []
  },
  {
   "cell_type": "markdown",
   "metadata": {},
   "source": [
    "**(4)** How many rows and columns does the `mpg` data set have? _1 point_"
   ]
  },
  {
   "cell_type": "markdown",
   "metadata": {},
   "source": []
  },
  {
   "cell_type": "markdown",
   "metadata": {},
   "source": [
    "### Problem 3, _6 points_"
   ]
  },
  {
   "cell_type": "markdown",
   "metadata": {},
   "source": [
    "**(1)** Write the code to generate the following plot using the `mpg` data set. _3 points_\n",
    "\n",
    "![title](Rplot1.jpeg)"
   ]
  },
  {
   "cell_type": "code",
   "execution_count": null,
   "metadata": {},
   "outputs": [],
   "source": []
  },
  {
   "cell_type": "markdown",
   "metadata": {},
   "source": [
    "**(2)** Write the code to generate the following plot using the `mpg` data set. _3 points_\n",
    "\n",
    "![title](Rplot2.jpeg)"
   ]
  },
  {
   "cell_type": "code",
   "execution_count": null,
   "metadata": {},
   "outputs": [],
   "source": []
  },
  {
   "cell_type": "markdown",
   "metadata": {},
   "source": [
    "### Problem 4, _4 points_"
   ]
  },
  {
   "cell_type": "markdown",
   "metadata": {},
   "source": [
    "**(1)** Alice wanted to create a scatter plot using the `mpg` data sets with `displ` on the x-axis and `hwy` on the y-axis. However, she wanted the points to be in blue color. She wrote the following code.\n",
    "\n",
    "```\n",
    "ggplot(data = mpg) + \n",
    "  geom_point(mapping = aes(x = displ, y = hwy, color = \"blue\"))\n",
    "```\n",
    "\n",
    "This however doesn't quite achieve what Alice was trying to do. Can you help her? Write the correct code below. _2 points_"
   ]
  },
  {
   "cell_type": "code",
   "execution_count": null,
   "metadata": {},
   "outputs": [],
   "source": []
  },
  {
   "cell_type": "markdown",
   "metadata": {},
   "source": [
    "**(2)** Write the code to generate the following plot using the `mpg` data set. _2 points_\n",
    "\n",
    "![title](Rplot3.jpeg)"
   ]
  },
  {
   "cell_type": "code",
   "execution_count": null,
   "metadata": {},
   "outputs": [],
   "source": []
  },
  {
   "cell_type": "markdown",
   "metadata": {},
   "source": [
    "### Problem 5, _5 points_"
   ]
  },
  {
   "cell_type": "markdown",
   "metadata": {},
   "source": [
    "**(1)** What does the `se` argument to `geom_smooth()` do? _1 point_"
   ]
  },
  {
   "cell_type": "markdown",
   "metadata": {},
   "source": []
  },
  {
   "cell_type": "markdown",
   "metadata": {},
   "source": [
    "**(2)** Write the code to generate the following plot using the `mpg` data set. _4 points_\n",
    "\n",
    "![title](Rplot4.jpeg)"
   ]
  },
  {
   "cell_type": "code",
   "execution_count": null,
   "metadata": {},
   "outputs": [],
   "source": []
  }
 ],
 "metadata": {
  "kernelspec": {
   "display_name": "R",
   "language": "R",
   "name": "ir"
  },
  "language_info": {
   "codemirror_mode": "r",
   "file_extension": ".r",
   "mimetype": "text/x-r-source",
   "name": "R",
   "pygments_lexer": "r",
   "version": "3.6.1"
  }
 },
 "nbformat": 4,
 "nbformat_minor": 2
}
