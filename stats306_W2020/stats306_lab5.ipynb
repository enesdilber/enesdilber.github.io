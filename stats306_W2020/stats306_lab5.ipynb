{
 "cells": [
  {
   "cell_type": "markdown",
   "metadata": {},
   "source": [
    "# Lab 5: EDA on Chipotle Orders"
   ]
  },
  {
   "cell_type": "markdown",
   "metadata": {},
   "source": [
    "Today, we look at what people order at Chipotle. Some example questions we are interested in are:\n",
    "- How much do people spend on average at Chipotle?\n",
    "- Do people prefer bowls or burritos?\n",
    "- What percentage of people order drinks?\n",
    "- ..."
   ]
  },
  {
   "cell_type": "code",
   "execution_count": 1,
   "metadata": {},
   "outputs": [
    {
     "name": "stderr",
     "output_type": "stream",
     "text": [
      "── Attaching packages ─────────────────────────────────────── tidyverse 1.3.0 ──\n",
      "✔ ggplot2 3.2.1     ✔ purrr   0.3.3\n",
      "✔ tibble  2.1.3     ✔ dplyr   0.8.4\n",
      "✔ tidyr   1.0.2     ✔ stringr 1.4.0\n",
      "✔ readr   1.3.1     ✔ forcats 0.4.0\n",
      "── Conflicts ────────────────────────────────────────── tidyverse_conflicts() ──\n",
      "✖ dplyr::filter() masks stats::filter()\n",
      "✖ dplyr::lag()    masks stats::lag()\n"
     ]
    }
   ],
   "source": [
    "# read in necessary packages and data\n",
    "options(repr.plot.height=4)\n",
    "library(tidyverse)\n",
    "df = read.csv(\"https://raw.githubusercontent.com/byoungwookjang/stats306_labs/master/lab3/chipotle.csv\", stringsAsFactors = F)\n",
    "df$X <- NULL # To get rid of the index column"
   ]
  },
  {
   "cell_type": "code",
   "execution_count": 2,
   "metadata": {},
   "outputs": [
    {
     "data": {
      "text/plain": [
       "    order_id         quantity       item_name         choice_description\n",
       " Min.   :   1.0   Min.   : 1.000   Length:4622        Length:4622       \n",
       " 1st Qu.: 477.2   1st Qu.: 1.000   Class :character   Class :character  \n",
       " Median : 926.0   Median : 1.000   Mode  :character   Mode  :character  \n",
       " Mean   : 927.3   Mean   : 1.076                                        \n",
       " 3rd Qu.:1393.0   3rd Qu.: 1.000                                        \n",
       " Max.   :1834.0   Max.   :15.000                                        \n",
       "  item_price       \n",
       " Length:4622       \n",
       " Class :character  \n",
       " Mode  :character  \n",
       "                   \n",
       "                   \n",
       "                   "
      ]
     },
     "metadata": {},
     "output_type": "display_data"
    }
   ],
   "source": [
    "summary(df)"
   ]
  },
  {
   "cell_type": "markdown",
   "metadata": {},
   "source": [
    "### Q1: what are the top 5 most popular items? (let's assume item_name are well-maintained, i.e., chicken bowl won't be listed as both Chicken Bowl and chicken bowl)"
   ]
  },
  {
   "cell_type": "code",
   "execution_count": 3,
   "metadata": {},
   "outputs": [
    {
     "data": {
      "text/html": [
       "<table>\n",
       "<thead><tr><th scope=col>item_name</th><th scope=col>n</th></tr></thead>\n",
       "<tbody>\n",
       "\t<tr><td>Chicken Bowl       </td><td>726                </td></tr>\n",
       "\t<tr><td>Chicken Burrito    </td><td>553                </td></tr>\n",
       "\t<tr><td>Chips and Guacamole</td><td>479                </td></tr>\n",
       "\t<tr><td>Steak Burrito      </td><td>368                </td></tr>\n",
       "\t<tr><td>Canned Soft Drink  </td><td>301                </td></tr>\n",
       "</tbody>\n",
       "</table>\n"
      ],
      "text/latex": [
       "\\begin{tabular}{r|ll}\n",
       " item\\_name & n\\\\\n",
       "\\hline\n",
       "\t Chicken Bowl        & 726                \\\\\n",
       "\t Chicken Burrito     & 553                \\\\\n",
       "\t Chips and Guacamole & 479                \\\\\n",
       "\t Steak Burrito       & 368                \\\\\n",
       "\t Canned Soft Drink   & 301                \\\\\n",
       "\\end{tabular}\n"
      ],
      "text/markdown": [
       "\n",
       "| item_name | n |\n",
       "|---|---|\n",
       "| Chicken Bowl        | 726                 |\n",
       "| Chicken Burrito     | 553                 |\n",
       "| Chips and Guacamole | 479                 |\n",
       "| Steak Burrito       | 368                 |\n",
       "| Canned Soft Drink   | 301                 |\n",
       "\n"
      ],
      "text/plain": [
       "  item_name           n  \n",
       "1 Chicken Bowl        726\n",
       "2 Chicken Burrito     553\n",
       "3 Chips and Guacamole 479\n",
       "4 Steak Burrito       368\n",
       "5 Canned Soft Drink   301"
      ]
     },
     "metadata": {},
     "output_type": "display_data"
    }
   ],
   "source": [
    "#top_n(count(df, item_name), 5)  %>% arrange(desc(n))\n",
    "\n",
    "df %>% group_by(item_name) %>% summarise(n = n()) %>%  arrange(desc(n)) %>% head(5)"
   ]
  },
  {
   "cell_type": "markdown",
   "metadata": {},
   "source": [
    "### Q2: item_price is strings right now. Can we remove the dollar sign and convert it to numerical?"
   ]
  },
  {
   "cell_type": "code",
   "execution_count": 4,
   "metadata": {},
   "outputs": [
    {
     "data": {
      "text/html": [
       "<table>\n",
       "<thead><tr><th scope=col>order_id</th><th scope=col>quantity</th><th scope=col>item_name</th><th scope=col>choice_description</th><th scope=col>item_price</th></tr></thead>\n",
       "<tbody>\n",
       "\t<tr><td>1                                                                          </td><td>1                                                                          </td><td>Chips and Fresh Tomato Salsa                                               </td><td>                                                                           </td><td>$2.39                                                                      </td></tr>\n",
       "\t<tr><td>1                                                                          </td><td>1                                                                          </td><td>Izze                                                                       </td><td>[Clementine]                                                               </td><td>$3.39                                                                      </td></tr>\n",
       "\t<tr><td>1                                                                          </td><td>1                                                                          </td><td>Nantucket Nectar                                                           </td><td>[Apple]                                                                    </td><td>$3.39                                                                      </td></tr>\n",
       "\t<tr><td>1                                                                          </td><td>1                                                                          </td><td>Chips and Tomatillo-Green Chili Salsa                                      </td><td>                                                                           </td><td>$2.39                                                                      </td></tr>\n",
       "\t<tr><td>2                                                                          </td><td>2                                                                          </td><td>Chicken Bowl                                                               </td><td>[Tomatillo-Red Chili Salsa (Hot), [Black Beans, Rice, Cheese, Sour Cream]] </td><td>$16.98                                                                     </td></tr>\n",
       "\t<tr><td>3                                                                          </td><td>1                                                                          </td><td>Chicken Bowl                                                               </td><td>[Fresh Tomato Salsa (Mild), [Rice, Cheese, Sour Cream, Guacamole, Lettuce]]</td><td>$10.98                                                                     </td></tr>\n",
       "</tbody>\n",
       "</table>\n"
      ],
      "text/latex": [
       "\\begin{tabular}{r|lllll}\n",
       " order\\_id & quantity & item\\_name & choice\\_description & item\\_price\\\\\n",
       "\\hline\n",
       "\t 1                                                                           & 1                                                                           & Chips and Fresh Tomato Salsa                                                &                                                                             & \\$2.39                                                                    \\\\\n",
       "\t 1                                                                               & 1                                                                               & Izze                                                                            & {[}Clementine{]}                                                                & \\$3.39                                                                        \\\\\n",
       "\t 1                                                                               & 1                                                                               & Nantucket Nectar                                                                & {[}Apple{]}                                                                     & \\$3.39                                                                        \\\\\n",
       "\t 1                                                                           & 1                                                                           & Chips and Tomatillo-Green Chili Salsa                                       &                                                                             & \\$2.39                                                                    \\\\\n",
       "\t 2                                                                                   & 2                                                                                   & Chicken Bowl                                                                        & {[}Tomatillo-Red Chili Salsa (Hot), {[}Black Beans, Rice, Cheese, Sour Cream{]}{]}  & \\$16.98                                                                           \\\\\n",
       "\t 3                                                                                   & 1                                                                                   & Chicken Bowl                                                                        & {[}Fresh Tomato Salsa (Mild), {[}Rice, Cheese, Sour Cream, Guacamole, Lettuce{]}{]} & \\$10.98                                                                           \\\\\n",
       "\\end{tabular}\n"
      ],
      "text/markdown": [
       "\n",
       "| order_id | quantity | item_name | choice_description | item_price |\n",
       "|---|---|---|---|---|\n",
       "| 1                                                                           | 1                                                                           | Chips and Fresh Tomato Salsa                                                |                                                                             | $2.39                                                                       |\n",
       "| 1                                                                           | 1                                                                           | Izze                                                                        | [Clementine]                                                                | $3.39                                                                       |\n",
       "| 1                                                                           | 1                                                                           | Nantucket Nectar                                                            | [Apple]                                                                     | $3.39                                                                       |\n",
       "| 1                                                                           | 1                                                                           | Chips and Tomatillo-Green Chili Salsa                                       |                                                                             | $2.39                                                                       |\n",
       "| 2                                                                           | 2                                                                           | Chicken Bowl                                                                | [Tomatillo-Red Chili Salsa (Hot), [Black Beans, Rice, Cheese, Sour Cream]]  | $16.98                                                                      |\n",
       "| 3                                                                           | 1                                                                           | Chicken Bowl                                                                | [Fresh Tomato Salsa (Mild), [Rice, Cheese, Sour Cream, Guacamole, Lettuce]] | $10.98                                                                      |\n",
       "\n"
      ],
      "text/plain": [
       "  order_id quantity item_name                            \n",
       "1 1        1        Chips and Fresh Tomato Salsa         \n",
       "2 1        1        Izze                                 \n",
       "3 1        1        Nantucket Nectar                     \n",
       "4 1        1        Chips and Tomatillo-Green Chili Salsa\n",
       "5 2        2        Chicken Bowl                         \n",
       "6 3        1        Chicken Bowl                         \n",
       "  choice_description                                                         \n",
       "1                                                                            \n",
       "2 [Clementine]                                                               \n",
       "3 [Apple]                                                                    \n",
       "4                                                                            \n",
       "5 [Tomatillo-Red Chili Salsa (Hot), [Black Beans, Rice, Cheese, Sour Cream]] \n",
       "6 [Fresh Tomato Salsa (Mild), [Rice, Cheese, Sour Cream, Guacamole, Lettuce]]\n",
       "  item_price\n",
       "1 $2.39     \n",
       "2 $3.39     \n",
       "3 $3.39     \n",
       "4 $2.39     \n",
       "5 $16.98    \n",
       "6 $10.98    "
      ]
     },
     "metadata": {},
     "output_type": "display_data"
    }
   ],
   "source": [
    "head(df)"
   ]
  },
  {
   "cell_type": "code",
   "execution_count": 5,
   "metadata": {},
   "outputs": [
    {
     "data": {
      "text/html": [
       "'10.54'"
      ],
      "text/latex": [
       "'10.54'"
      ],
      "text/markdown": [
       "'10.54'"
      ],
      "text/plain": [
       "[1] \"10.54\""
      ]
     },
     "metadata": {},
     "output_type": "display_data"
    }
   ],
   "source": [
    "# A quick intro to regular expressions. We are going to cover it later\n",
    "str_extract(\"$10.54\", \"[0-9]+\\\\.{0,1}[0-9]*\")"
   ]
  },
  {
   "cell_type": "code",
   "execution_count": 6,
   "metadata": {},
   "outputs": [
    {
     "data": {
      "text/html": [
       "<table>\n",
       "<thead><tr><th scope=col>item_price</th></tr></thead>\n",
       "<tbody>\n",
       "\t<tr><td> 2.39</td></tr>\n",
       "\t<tr><td> 3.39</td></tr>\n",
       "\t<tr><td> 3.39</td></tr>\n",
       "\t<tr><td> 2.39</td></tr>\n",
       "\t<tr><td>16.98</td></tr>\n",
       "\t<tr><td>10.98</td></tr>\n",
       "</tbody>\n",
       "</table>\n"
      ],
      "text/latex": [
       "\\begin{tabular}{r|l}\n",
       " item\\_price\\\\\n",
       "\\hline\n",
       "\t  2.39\\\\\n",
       "\t  3.39\\\\\n",
       "\t  3.39\\\\\n",
       "\t  2.39\\\\\n",
       "\t 16.98\\\\\n",
       "\t 10.98\\\\\n",
       "\\end{tabular}\n"
      ],
      "text/markdown": [
       "\n",
       "| item_price |\n",
       "|---|\n",
       "|  2.39 |\n",
       "|  3.39 |\n",
       "|  3.39 |\n",
       "|  2.39 |\n",
       "| 16.98 |\n",
       "| 10.98 |\n",
       "\n"
      ],
      "text/plain": [
       "  item_price\n",
       "1  2.39     \n",
       "2  3.39     \n",
       "3  3.39     \n",
       "4  2.39     \n",
       "5 16.98     \n",
       "6 10.98     "
      ]
     },
     "metadata": {},
     "output_type": "display_data"
    }
   ],
   "source": [
    "df = df %>%\n",
    "        mutate(item_price = as.numeric(str_extract(item_price, \"[0-9]+\\\\.{0,1}[0-9]*\")))\n",
    "df %>% select(item_price) %>% head"
   ]
  },
  {
   "cell_type": "markdown",
   "metadata": {},
   "source": [
    "### Q3: Construct a table where for each item, we have amount sold, total revenue, max price sold, min price sold, mean price sold; arrange in decreasing order of amount sold."
   ]
  },
  {
   "cell_type": "code",
   "execution_count": 7,
   "metadata": {},
   "outputs": [
    {
     "data": {
      "text/html": [
       "<table>\n",
       "<thead><tr><th scope=col>item_name</th><th scope=col>revenue</th><th scope=col>itemsold</th><th scope=col>meanprice</th><th scope=col>maxprice</th><th scope=col>minprice</th></tr></thead>\n",
       "<tbody>\n",
       "\t<tr><td>Chicken Bowl       </td><td>7342.73            </td><td>726                </td><td>10.113953          </td><td>32.94              </td><td>8.19               </td></tr>\n",
       "\t<tr><td>Chicken Burrito    </td><td>5575.82            </td><td>553                </td><td>10.082857          </td><td>35.00              </td><td>8.19               </td></tr>\n",
       "\t<tr><td>Chips and Guacamole</td><td>2201.04            </td><td>479                </td><td> 4.595073          </td><td>17.80              </td><td>3.89               </td></tr>\n",
       "\t<tr><td>Steak Burrito      </td><td>3851.43            </td><td>368                </td><td>10.465842          </td><td>27.75              </td><td>8.69               </td></tr>\n",
       "\t<tr><td>Canned Soft Drink  </td><td> 438.75            </td><td>301                </td><td> 1.457641          </td><td> 5.00              </td><td>1.25               </td></tr>\n",
       "\t<tr><td>Chips              </td><td> 494.34            </td><td>211                </td><td> 2.342844          </td><td> 6.45              </td><td>1.99               </td></tr>\n",
       "</tbody>\n",
       "</table>\n"
      ],
      "text/latex": [
       "\\begin{tabular}{r|llllll}\n",
       " item\\_name & revenue & itemsold & meanprice & maxprice & minprice\\\\\n",
       "\\hline\n",
       "\t Chicken Bowl        & 7342.73             & 726                 & 10.113953           & 32.94               & 8.19               \\\\\n",
       "\t Chicken Burrito     & 5575.82             & 553                 & 10.082857           & 35.00               & 8.19               \\\\\n",
       "\t Chips and Guacamole & 2201.04             & 479                 &  4.595073           & 17.80               & 3.89               \\\\\n",
       "\t Steak Burrito       & 3851.43             & 368                 & 10.465842           & 27.75               & 8.69               \\\\\n",
       "\t Canned Soft Drink   &  438.75             & 301                 &  1.457641           &  5.00               & 1.25               \\\\\n",
       "\t Chips               &  494.34             & 211                 &  2.342844           &  6.45               & 1.99               \\\\\n",
       "\\end{tabular}\n"
      ],
      "text/markdown": [
       "\n",
       "| item_name | revenue | itemsold | meanprice | maxprice | minprice |\n",
       "|---|---|---|---|---|---|\n",
       "| Chicken Bowl        | 7342.73             | 726                 | 10.113953           | 32.94               | 8.19                |\n",
       "| Chicken Burrito     | 5575.82             | 553                 | 10.082857           | 35.00               | 8.19                |\n",
       "| Chips and Guacamole | 2201.04             | 479                 |  4.595073           | 17.80               | 3.89                |\n",
       "| Steak Burrito       | 3851.43             | 368                 | 10.465842           | 27.75               | 8.69                |\n",
       "| Canned Soft Drink   |  438.75             | 301                 |  1.457641           |  5.00               | 1.25                |\n",
       "| Chips               |  494.34             | 211                 |  2.342844           |  6.45               | 1.99                |\n",
       "\n"
      ],
      "text/plain": [
       "  item_name           revenue itemsold meanprice maxprice minprice\n",
       "1 Chicken Bowl        7342.73 726      10.113953 32.94    8.19    \n",
       "2 Chicken Burrito     5575.82 553      10.082857 35.00    8.19    \n",
       "3 Chips and Guacamole 2201.04 479       4.595073 17.80    3.89    \n",
       "4 Steak Burrito       3851.43 368      10.465842 27.75    8.69    \n",
       "5 Canned Soft Drink    438.75 301       1.457641  5.00    1.25    \n",
       "6 Chips                494.34 211       2.342844  6.45    1.99    "
      ]
     },
     "metadata": {},
     "output_type": "display_data"
    }
   ],
   "source": []
  },
  {
   "cell_type": "markdown",
   "metadata": {},
   "source": [
    "Wait! how can a chicken bowl be 32.94? Double chicken chicken bowl is only 10 bucks! What has happened?"
   ]
  },
  {
   "cell_type": "markdown",
   "metadata": {},
   "source": [
    "### Take a look at the row in df where chicken bowl costed 32.94. Is my code for Q3 correct? If not, what's the correct one. Also check if your code for Q1 is correct."
   ]
  },
  {
   "cell_type": "code",
   "execution_count": 8,
   "metadata": {},
   "outputs": [
    {
     "data": {
      "text/html": [
       "<table>\n",
       "<thead><tr><th scope=col>order_id</th><th scope=col>quantity</th><th scope=col>item_name</th><th scope=col>choice_description</th><th scope=col>item_price</th></tr></thead>\n",
       "<tbody>\n",
       "\t<tr><td>178                                                                                                                                                                    </td><td>3                                                                                                                                                                      </td><td>Chicken Bowl                                                                                                                                                           </td><td>[[Fresh Tomato Salsa (Mild), Tomatillo-Green Chili Salsa (Medium), Roasted Chili Corn Salsa (Medium)], [Black Beans, Rice, Fajita Veggies, Cheese, Guacamole, Lettuce]]</td><td>32.94                                                                                                                                                                  </td></tr>\n",
       "</tbody>\n",
       "</table>\n"
      ],
      "text/latex": [
       "\\begin{tabular}{r|lllll}\n",
       " order\\_id & quantity & item\\_name & choice\\_description & item\\_price\\\\\n",
       "\\hline\n",
       "\t 178                                                                                                                                                                                 & 3                                                                                                                                                                                   & Chicken Bowl                                                                                                                                                                        & {[}{[}Fresh Tomato Salsa (Mild), Tomatillo-Green Chili Salsa (Medium), Roasted Chili Corn Salsa (Medium){]}, {[}Black Beans, Rice, Fajita Veggies, Cheese, Guacamole, Lettuce{]}{]} & 32.94                                                                                                                                                                              \\\\\n",
       "\\end{tabular}\n"
      ],
      "text/markdown": [
       "\n",
       "| order_id | quantity | item_name | choice_description | item_price |\n",
       "|---|---|---|---|---|\n",
       "| 178                                                                                                                                                                     | 3                                                                                                                                                                       | Chicken Bowl                                                                                                                                                            | [[Fresh Tomato Salsa (Mild), Tomatillo-Green Chili Salsa (Medium), Roasted Chili Corn Salsa (Medium)], [Black Beans, Rice, Fajita Veggies, Cheese, Guacamole, Lettuce]] | 32.94                                                                                                                                                                   |\n",
       "\n"
      ],
      "text/plain": [
       "  order_id quantity item_name   \n",
       "1 178      3        Chicken Bowl\n",
       "  choice_description                                                                                                                                                     \n",
       "1 [[Fresh Tomato Salsa (Mild), Tomatillo-Green Chili Salsa (Medium), Roasted Chili Corn Salsa (Medium)], [Black Beans, Rice, Fajita Veggies, Cheese, Guacamole, Lettuce]]\n",
       "  item_price\n",
       "1 32.94     "
      ]
     },
     "metadata": {},
     "output_type": "display_data"
    }
   ],
   "source": [
    "# select the row where chicken bowl costs 32.94\n",
    "\n",
    "df %>% filter(item_name == \"Chicken Bowl\", item_price == 32.94)\n",
    "\n",
    "# Did you notice the problem here?"
   ]
  },
  {
   "cell_type": "code",
   "execution_count": 9,
   "metadata": {},
   "outputs": [
    {
     "data": {
      "text/html": [
       "<table>\n",
       "<thead><tr><th scope=col>item_name</th><th scope=col>revenue</th><th scope=col>itemsold</th><th scope=col>meanprice</th><th scope=col>maxprice</th><th scope=col>minprice</th></tr></thead>\n",
       "<tbody>\n",
       "\t<tr><td>Chicken Bowl       </td><td>7342.73            </td><td>761                </td><td>9.657727           </td><td>11.25              </td><td>8.19               </td></tr>\n",
       "\t<tr><td>Chicken Burrito    </td><td>5575.82            </td><td>591                </td><td>9.475949           </td><td>11.25              </td><td>8.19               </td></tr>\n",
       "\t<tr><td>Chips and Guacamole</td><td>2201.04            </td><td>506                </td><td>4.345616           </td><td> 4.45              </td><td>3.89               </td></tr>\n",
       "\t<tr><td>Steak Burrito      </td><td>3851.43            </td><td>386                </td><td>9.993424           </td><td>11.75              </td><td>8.69               </td></tr>\n",
       "\t<tr><td>Canned Soft Drink  </td><td> 438.75            </td><td>351                </td><td>1.250000           </td><td> 1.25              </td><td>1.25               </td></tr>\n",
       "\t<tr><td>Chips              </td><td> 494.34            </td><td>230                </td><td>2.149242           </td><td> 2.15              </td><td>1.99               </td></tr>\n",
       "</tbody>\n",
       "</table>\n"
      ],
      "text/latex": [
       "\\begin{tabular}{r|llllll}\n",
       " item\\_name & revenue & itemsold & meanprice & maxprice & minprice\\\\\n",
       "\\hline\n",
       "\t Chicken Bowl        & 7342.73             & 761                 & 9.657727            & 11.25               & 8.19               \\\\\n",
       "\t Chicken Burrito     & 5575.82             & 591                 & 9.475949            & 11.25               & 8.19               \\\\\n",
       "\t Chips and Guacamole & 2201.04             & 506                 & 4.345616            &  4.45               & 3.89               \\\\\n",
       "\t Steak Burrito       & 3851.43             & 386                 & 9.993424            & 11.75               & 8.69               \\\\\n",
       "\t Canned Soft Drink   &  438.75             & 351                 & 1.250000            &  1.25               & 1.25               \\\\\n",
       "\t Chips               &  494.34             & 230                 & 2.149242            &  2.15               & 1.99               \\\\\n",
       "\\end{tabular}\n"
      ],
      "text/markdown": [
       "\n",
       "| item_name | revenue | itemsold | meanprice | maxprice | minprice |\n",
       "|---|---|---|---|---|---|\n",
       "| Chicken Bowl        | 7342.73             | 761                 | 9.657727            | 11.25               | 8.19                |\n",
       "| Chicken Burrito     | 5575.82             | 591                 | 9.475949            | 11.25               | 8.19                |\n",
       "| Chips and Guacamole | 2201.04             | 506                 | 4.345616            |  4.45               | 3.89                |\n",
       "| Steak Burrito       | 3851.43             | 386                 | 9.993424            | 11.75               | 8.69                |\n",
       "| Canned Soft Drink   |  438.75             | 351                 | 1.250000            |  1.25               | 1.25                |\n",
       "| Chips               |  494.34             | 230                 | 2.149242            |  2.15               | 1.99                |\n",
       "\n"
      ],
      "text/plain": [
       "  item_name           revenue itemsold meanprice maxprice minprice\n",
       "1 Chicken Bowl        7342.73 761      9.657727  11.25    8.19    \n",
       "2 Chicken Burrito     5575.82 591      9.475949  11.25    8.19    \n",
       "3 Chips and Guacamole 2201.04 506      4.345616   4.45    3.89    \n",
       "4 Steak Burrito       3851.43 386      9.993424  11.75    8.69    \n",
       "5 Canned Soft Drink    438.75 351      1.250000   1.25    1.25    \n",
       "6 Chips                494.34 230      2.149242   2.15    1.99    "
      ]
     },
     "metadata": {},
     "output_type": "display_data"
    }
   ],
   "source": [
    "# correct the code in Q3.\n"
   ]
  },
  {
   "cell_type": "markdown",
   "metadata": {},
   "source": [
    "### Q4: What's the total price for each order? Plot a histogram of how much each order spends. Bonus: Instead of a histogram find a kernel density estimation (look it up)"
   ]
  },
  {
   "cell_type": "code",
   "execution_count": 10,
   "metadata": {},
   "outputs": [
    {
     "data": {
      "text/html": [
       "<table>\n",
       "<thead><tr><th scope=col>order_id</th><th scope=col>totalprice</th></tr></thead>\n",
       "<tbody>\n",
       "\t<tr><td>1    </td><td>11.56</td></tr>\n",
       "\t<tr><td>2    </td><td>16.98</td></tr>\n",
       "\t<tr><td>3    </td><td>12.67</td></tr>\n",
       "\t<tr><td>4    </td><td>21.00</td></tr>\n",
       "\t<tr><td>5    </td><td>13.70</td></tr>\n",
       "\t<tr><td>6    </td><td>17.50</td></tr>\n",
       "</tbody>\n",
       "</table>\n"
      ],
      "text/latex": [
       "\\begin{tabular}{r|ll}\n",
       " order\\_id & totalprice\\\\\n",
       "\\hline\n",
       "\t 1     & 11.56\\\\\n",
       "\t 2     & 16.98\\\\\n",
       "\t 3     & 12.67\\\\\n",
       "\t 4     & 21.00\\\\\n",
       "\t 5     & 13.70\\\\\n",
       "\t 6     & 17.50\\\\\n",
       "\\end{tabular}\n"
      ],
      "text/markdown": [
       "\n",
       "| order_id | totalprice |\n",
       "|---|---|\n",
       "| 1     | 11.56 |\n",
       "| 2     | 16.98 |\n",
       "| 3     | 12.67 |\n",
       "| 4     | 21.00 |\n",
       "| 5     | 13.70 |\n",
       "| 6     | 17.50 |\n",
       "\n"
      ],
      "text/plain": [
       "  order_id totalprice\n",
       "1 1        11.56     \n",
       "2 2        16.98     \n",
       "3 3        12.67     \n",
       "4 4        21.00     \n",
       "5 5        13.70     \n",
       "6 6        17.50     "
      ]
     },
     "metadata": {},
     "output_type": "display_data"
    }
   ],
   "source": [
    "# Create below table first"
   ]
  },
  {
   "cell_type": "code",
   "execution_count": 11,
   "metadata": {},
   "outputs": [
    {
     "data": {
      "image/png": "[encoded data removed]",
      "text/plain": [
       "plot without title"
      ]
     },
     "metadata": {},
     "output_type": "display_data"
    }
   ],
   "source": []
  },
  {
   "cell_type": "markdown",
   "metadata": {},
   "source": [
    "### Q5: Change the plot in Q4 such that we look only at orders below 20"
   ]
  },
  {
   "cell_type": "code",
   "execution_count": 12,
   "metadata": {},
   "outputs": [
    {
     "data": {
      "image/png": "[encoded data removed]",
      "text/plain": [
       "plot without title"
      ]
     },
     "metadata": {},
     "output_type": "display_data"
    }
   ],
   "source": []
  },
  {
   "cell_type": "markdown",
   "metadata": {},
   "source": [
    "### Q6: Are bowls more popular or burritos more popular? Create a bar plot where the y axis is the amount sold, and the x axis contains one bar for bowl, one bar for burrito. \n",
    "Hint: You can use `ifelse` function <br>\n",
    "`ifelse(test_expression, True Condition, False Condition)`<br>\n",
    "You can use `?ifelse`"
   ]
  },
  {
   "cell_type": "code",
   "execution_count": 13,
   "metadata": {},
   "outputs": [
    {
     "data": {
      "text/html": [
       "<ol class=list-inline>\n",
       "\t<li>'This is True'</li>\n",
       "\t<li>'This is False'</li>\n",
       "\t<li>'This is False'</li>\n",
       "\t<li>'This is True'</li>\n",
       "</ol>\n"
      ],
      "text/latex": [
       "\\begin{enumerate*}\n",
       "\\item 'This is True'\n",
       "\\item 'This is False'\n",
       "\\item 'This is False'\n",
       "\\item 'This is True'\n",
       "\\end{enumerate*}\n"
      ],
      "text/markdown": [
       "1. 'This is True'\n",
       "2. 'This is False'\n",
       "3. 'This is False'\n",
       "4. 'This is True'\n",
       "\n",
       "\n"
      ],
      "text/plain": [
       "[1] \"This is True\"  \"This is False\" \"This is False\" \"This is True\" "
      ]
     },
     "metadata": {},
     "output_type": "display_data"
    }
   ],
   "source": [
    "# quick review\n",
    "ifelse(c(T, F, F, T), \"This is True\", \"This is False\")"
   ]
  },
  {
   "cell_type": "markdown",
   "metadata": {},
   "source": [
    "`str_detect` quick review"
   ]
  },
  {
   "cell_type": "code",
   "execution_count": 4,
   "metadata": {},
   "outputs": [
    {
     "data": {
      "text/html": [
       "<ol class=list-inline>\n",
       "\t<li>TRUE</li>\n",
       "\t<li>TRUE</li>\n",
       "\t<li>FALSE</li>\n",
       "</ol>\n"
      ],
      "text/latex": [
       "\\begin{enumerate*}\n",
       "\\item TRUE\n",
       "\\item TRUE\n",
       "\\item FALSE\n",
       "\\end{enumerate*}\n"
      ],
      "text/markdown": [
       "1. TRUE\n",
       "2. TRUE\n",
       "3. FALSE\n",
       "\n",
       "\n"
      ],
      "text/plain": [
       "[1]  TRUE  TRUE FALSE"
      ]
     },
     "metadata": {},
     "output_type": "display_data"
    }
   ],
   "source": [
    "str_detect(pattern = \"Bowl\", c(\"Bowl\", \"aosdjaosBowlopdjkaopsd\", \"bowl\"))"
   ]
  },
  {
   "cell_type": "markdown",
   "metadata": {},
   "source": [
    "combine both"
   ]
  },
  {
   "cell_type": "code",
   "execution_count": 5,
   "metadata": {},
   "outputs": [
    {
     "data": {
      "text/html": [
       "<ol class=list-inline>\n",
       "\t<li>'This is a Bowl'</li>\n",
       "\t<li>'This is a Bowl'</li>\n",
       "\t<li>'This is not a Bowl'</li>\n",
       "</ol>\n"
      ],
      "text/latex": [
       "\\begin{enumerate*}\n",
       "\\item 'This is a Bowl'\n",
       "\\item 'This is a Bowl'\n",
       "\\item 'This is not a Bowl'\n",
       "\\end{enumerate*}\n"
      ],
      "text/markdown": [
       "1. 'This is a Bowl'\n",
       "2. 'This is a Bowl'\n",
       "3. 'This is not a Bowl'\n",
       "\n",
       "\n"
      ],
      "text/plain": [
       "[1] \"This is a Bowl\"     \"This is a Bowl\"     \"This is not a Bowl\""
      ]
     },
     "metadata": {},
     "output_type": "display_data"
    }
   ],
   "source": [
    "ifelse(str_detect(pattern = \"Bowl\", c(\"Bowl\", \"aosdjaosBowlopdjkaopsd\", \"bowl\")), \n",
    "       \"This is a Bowl\", \"This is not a Bowl\")"
   ]
  },
  {
   "cell_type": "code",
   "execution_count": 6,
   "metadata": {},
   "outputs": [
    {
     "data": {
      "text/html": [
       "<table>\n",
       "<thead><tr><th scope=col>order_id</th><th scope=col>quantity</th><th scope=col>item_name</th><th scope=col>choice_description</th><th scope=col>item_price</th><th scope=col>burritoORbowl</th></tr></thead>\n",
       "<tbody>\n",
       "\t<tr><td>2                                                                                                                 </td><td>2                                                                                                                 </td><td>Chicken Bowl                                                                                                      </td><td>[Tomatillo-Red Chili Salsa (Hot), [Black Beans, Rice, Cheese, Sour Cream]]                                        </td><td>$16.98                                                                                                            </td><td>Bowl                                                                                                              </td></tr>\n",
       "\t<tr><td>3                                                                                                                 </td><td>1                                                                                                                 </td><td>Chicken Bowl                                                                                                      </td><td>[Fresh Tomato Salsa (Mild), [Rice, Cheese, Sour Cream, Guacamole, Lettuce]]                                       </td><td>$10.98                                                                                                            </td><td>Bowl                                                                                                              </td></tr>\n",
       "\t<tr><td>4                                                                                                                 </td><td>1                                                                                                                 </td><td>Steak Burrito                                                                                                     </td><td>[Tomatillo Red Chili Salsa, [Fajita Vegetables, Black Beans, Pinto Beans, Cheese, Sour Cream, Guacamole, Lettuce]]</td><td>$11.75                                                                                                            </td><td>Burrito                                                                                                           </td></tr>\n",
       "\t<tr><td>5                                                                                                                 </td><td>1                                                                                                                 </td><td>Steak Burrito                                                                                                     </td><td>[Fresh Tomato Salsa, [Rice, Black Beans, Pinto Beans, Cheese, Sour Cream, Lettuce]]                               </td><td>$9.25                                                                                                             </td><td>Burrito                                                                                                           </td></tr>\n",
       "\t<tr><td>7                                                                                                                 </td><td>1                                                                                                                 </td><td>Chicken Bowl                                                                                                      </td><td>[Fresh Tomato Salsa, [Fajita Vegetables, Rice, Cheese, Sour Cream, Guacamole]]                                    </td><td>$11.25                                                                                                            </td><td>Bowl                                                                                                              </td></tr>\n",
       "\t<tr><td>8                                                                                                                 </td><td>1                                                                                                                 </td><td>Chicken Burrito                                                                                                   </td><td>[Tomatillo-Green Chili Salsa (Medium), [Pinto Beans, Cheese, Sour Cream]]                                         </td><td>$8.49                                                                                                             </td><td>Burrito                                                                                                           </td></tr>\n",
       "</tbody>\n",
       "</table>\n"
      ],
      "text/latex": [
       "\\begin{tabular}{r|llllll}\n",
       " order\\_id & quantity & item\\_name & choice\\_description & item\\_price & burritoORbowl\\\\\n",
       "\\hline\n",
       "\t 2                                                                                                                          & 2                                                                                                                          & Chicken Bowl                                                                                                               & {[}Tomatillo-Red Chili Salsa (Hot), {[}Black Beans, Rice, Cheese, Sour Cream{]}{]}                                         & \\$16.98                                                                                                                   & Bowl                                                                                                                      \\\\\n",
       "\t 3                                                                                                                          & 1                                                                                                                          & Chicken Bowl                                                                                                               & {[}Fresh Tomato Salsa (Mild), {[}Rice, Cheese, Sour Cream, Guacamole, Lettuce{]}{]}                                        & \\$10.98                                                                                                                   & Bowl                                                                                                                      \\\\\n",
       "\t 4                                                                                                                          & 1                                                                                                                          & Steak Burrito                                                                                                              & {[}Tomatillo Red Chili Salsa, {[}Fajita Vegetables, Black Beans, Pinto Beans, Cheese, Sour Cream, Guacamole, Lettuce{]}{]} & \\$11.75                                                                                                                   & Burrito                                                                                                                   \\\\\n",
       "\t 5                                                                                                                          & 1                                                                                                                          & Steak Burrito                                                                                                              & {[}Fresh Tomato Salsa, {[}Rice, Black Beans, Pinto Beans, Cheese, Sour Cream, Lettuce{]}{]}                                & \\$9.25                                                                                                                    & Burrito                                                                                                                   \\\\\n",
       "\t 7                                                                                                                          & 1                                                                                                                          & Chicken Bowl                                                                                                               & {[}Fresh Tomato Salsa, {[}Fajita Vegetables, Rice, Cheese, Sour Cream, Guacamole{]}{]}                                     & \\$11.25                                                                                                                   & Bowl                                                                                                                      \\\\\n",
       "\t 8                                                                                                                          & 1                                                                                                                          & Chicken Burrito                                                                                                            & {[}Tomatillo-Green Chili Salsa (Medium), {[}Pinto Beans, Cheese, Sour Cream{]}{]}                                          & \\$8.49                                                                                                                    & Burrito                                                                                                                   \\\\\n",
       "\\end{tabular}\n"
      ],
      "text/markdown": [
       "\n",
       "| order_id | quantity | item_name | choice_description | item_price | burritoORbowl |\n",
       "|---|---|---|---|---|---|\n",
       "| 2                                                                                                                  | 2                                                                                                                  | Chicken Bowl                                                                                                       | [Tomatillo-Red Chili Salsa (Hot), [Black Beans, Rice, Cheese, Sour Cream]]                                         | $16.98                                                                                                             | Bowl                                                                                                               |\n",
       "| 3                                                                                                                  | 1                                                                                                                  | Chicken Bowl                                                                                                       | [Fresh Tomato Salsa (Mild), [Rice, Cheese, Sour Cream, Guacamole, Lettuce]]                                        | $10.98                                                                                                             | Bowl                                                                                                               |\n",
       "| 4                                                                                                                  | 1                                                                                                                  | Steak Burrito                                                                                                      | [Tomatillo Red Chili Salsa, [Fajita Vegetables, Black Beans, Pinto Beans, Cheese, Sour Cream, Guacamole, Lettuce]] | $11.75                                                                                                             | Burrito                                                                                                            |\n",
       "| 5                                                                                                                  | 1                                                                                                                  | Steak Burrito                                                                                                      | [Fresh Tomato Salsa, [Rice, Black Beans, Pinto Beans, Cheese, Sour Cream, Lettuce]]                                | $9.25                                                                                                              | Burrito                                                                                                            |\n",
       "| 7                                                                                                                  | 1                                                                                                                  | Chicken Bowl                                                                                                       | [Fresh Tomato Salsa, [Fajita Vegetables, Rice, Cheese, Sour Cream, Guacamole]]                                     | $11.25                                                                                                             | Bowl                                                                                                               |\n",
       "| 8                                                                                                                  | 1                                                                                                                  | Chicken Burrito                                                                                                    | [Tomatillo-Green Chili Salsa (Medium), [Pinto Beans, Cheese, Sour Cream]]                                          | $8.49                                                                                                              | Burrito                                                                                                            |\n",
       "\n"
      ],
      "text/plain": [
       "  order_id quantity item_name      \n",
       "1 2        2        Chicken Bowl   \n",
       "2 3        1        Chicken Bowl   \n",
       "3 4        1        Steak Burrito  \n",
       "4 5        1        Steak Burrito  \n",
       "5 7        1        Chicken Bowl   \n",
       "6 8        1        Chicken Burrito\n",
       "  choice_description                                                                                                \n",
       "1 [Tomatillo-Red Chili Salsa (Hot), [Black Beans, Rice, Cheese, Sour Cream]]                                        \n",
       "2 [Fresh Tomato Salsa (Mild), [Rice, Cheese, Sour Cream, Guacamole, Lettuce]]                                       \n",
       "3 [Tomatillo Red Chili Salsa, [Fajita Vegetables, Black Beans, Pinto Beans, Cheese, Sour Cream, Guacamole, Lettuce]]\n",
       "4 [Fresh Tomato Salsa, [Rice, Black Beans, Pinto Beans, Cheese, Sour Cream, Lettuce]]                               \n",
       "5 [Fresh Tomato Salsa, [Fajita Vegetables, Rice, Cheese, Sour Cream, Guacamole]]                                    \n",
       "6 [Tomatillo-Green Chili Salsa (Medium), [Pinto Beans, Cheese, Sour Cream]]                                         \n",
       "  item_price burritoORbowl\n",
       "1 $16.98     Bowl         \n",
       "2 $10.98     Bowl         \n",
       "3 $11.75     Burrito      \n",
       "4 $9.25      Burrito      \n",
       "5 $11.25     Bowl         \n",
       "6 $8.49      Burrito      "
      ]
     },
     "metadata": {},
     "output_type": "display_data"
    }
   ],
   "source": [
    "# I did the first part for you\n",
    "bORb = df %>% \n",
    "mutate(burritoORbowl = ifelse(str_detect(pattern = \"Bowl\", item_name), \"Bowl\",\n",
    "                          ifelse(str_detect(pattern = \"Burrito\", item_name), \"Burrito\", NA))) %>%\n",
    "filter(!is.na(burritoORbowl))\n",
    "head(bORb)"
   ]
  },
  {
   "cell_type": "code",
   "execution_count": 17,
   "metadata": {},
   "outputs": [
    {
     "data": {
      "text/html": [
       "<table>\n",
       "<thead><tr><th scope=col>burritoORbowl</th><th scope=col>total</th></tr></thead>\n",
       "<tbody>\n",
       "\t<tr><td>Bowl   </td><td>1398   </td></tr>\n",
       "\t<tr><td>Burrito</td><td>1231   </td></tr>\n",
       "</tbody>\n",
       "</table>\n"
      ],
      "text/latex": [
       "\\begin{tabular}{r|ll}\n",
       " burritoORbowl & total\\\\\n",
       "\\hline\n",
       "\t Bowl    & 1398   \\\\\n",
       "\t Burrito & 1231   \\\\\n",
       "\\end{tabular}\n"
      ],
      "text/markdown": [
       "\n",
       "| burritoORbowl | total |\n",
       "|---|---|\n",
       "| Bowl    | 1398    |\n",
       "| Burrito | 1231    |\n",
       "\n"
      ],
      "text/plain": [
       "  burritoORbowl total\n",
       "1 Bowl          1398 \n",
       "2 Burrito       1231 "
      ]
     },
     "metadata": {},
     "output_type": "display_data"
    }
   ],
   "source": []
  },
  {
   "cell_type": "code",
   "execution_count": 18,
   "metadata": {},
   "outputs": [
    {
     "data": {
      "image/png": "[encoded data removed]",
      "text/plain": [
       "plot without title"
      ]
     },
     "metadata": {},
     "output_type": "display_data"
    }
   ],
   "source": []
  },
  {
   "cell_type": "markdown",
   "metadata": {},
   "source": [
    "### Q7: What percentage of orders contain at least one drink of any kind?"
   ]
  },
  {
   "cell_type": "code",
   "execution_count": 19,
   "metadata": {},
   "outputs": [
    {
     "data": {
      "text/html": [
       "330"
      ],
      "text/latex": [
       "330"
      ],
      "text/markdown": [
       "330"
      ],
      "text/plain": [
       "[1] 330"
      ]
     },
     "metadata": {},
     "output_type": "display_data"
    }
   ],
   "source": [
    "n_drink = # Your code"
   ]
  },
  {
   "cell_type": "code",
   "execution_count": 20,
   "metadata": {},
   "outputs": [
    {
     "data": {
      "text/html": [
       "1834"
      ],
      "text/latex": [
       "1834"
      ],
      "text/markdown": [
       "1834"
      ],
      "text/plain": [
       "[1] 1834"
      ]
     },
     "metadata": {},
     "output_type": "display_data"
    }
   ],
   "source": [
    "n_order = # Your code"
   ]
  },
  {
   "cell_type": "code",
   "execution_count": 21,
   "metadata": {},
   "outputs": [
    {
     "data": {
      "text/html": [
       "'17.99 percent'"
      ],
      "text/latex": [
       "'17.99 percent'"
      ],
      "text/markdown": [
       "'17.99 percent'"
      ],
      "text/plain": [
       "[1] \"17.99 percent\""
      ]
     },
     "metadata": {},
     "output_type": "display_data"
    }
   ],
   "source": [
    "sprintf('%.2f percent', 100*n_drink/n_order)"
   ]
  },
  {
   "cell_type": "markdown",
   "metadata": {},
   "source": [
    "### Bonus Question: Suppose for any non drink item sold, 20% of the price is profit, for any drink sold, 85% is profit. According to our data, what percentage of total profit comes from drinks? (Hint: Use str_detect)"
   ]
  },
  {
   "cell_type": "code",
   "execution_count": 22,
   "metadata": {},
   "outputs": [],
   "source": [
    "# sum(price) for drinks\n",
    "sum_drink = # Your code"
   ]
  },
  {
   "cell_type": "code",
   "execution_count": 23,
   "metadata": {},
   "outputs": [],
   "source": [
    "# sum(price) for non-drinks\n",
    "sum_nondrink = # Your Code"
   ]
  },
  {
   "cell_type": "code",
   "execution_count": 24,
   "metadata": {},
   "outputs": [
    {
     "data": {
      "text/html": [
       "'9.12 percent'"
      ],
      "text/latex": [
       "'9.12 percent'"
      ],
      "text/markdown": [
       "'9.12 percent'"
      ],
      "text/plain": [
       "[1] \"9.12 percent\""
      ]
     },
     "metadata": {},
     "output_type": "display_data"
    }
   ],
   "source": [
    "sprintf('%.2f percent', 100*(sum_drink*0.85)/(sum_nondrink*0.2+sum_drink*0.85))"
   ]
  }
 ],
 "metadata": {
  "kernelspec": {
   "display_name": "R",
   "language": "R",
   "name": "ir"
  },
  "language_info": {
   "codemirror_mode": "r",
   "file_extension": ".r",
   "mimetype": "text/x-r-source",
   "name": "R",
   "pygments_lexer": "r",
   "version": "3.6.1"
  }
 },
 "nbformat": 4,
 "nbformat_minor": 2
}
