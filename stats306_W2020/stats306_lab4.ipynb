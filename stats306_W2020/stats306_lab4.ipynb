{
 "cells": [
  {
   "cell_type": "markdown",
   "metadata": {},
   "source": [
    "# Lab 4: dplyr examples"
   ]
  },
  {
   "cell_type": "code",
   "execution_count": 1,
   "metadata": {},
   "outputs": [
    {
     "name": "stderr",
     "output_type": "stream",
     "text": [
      "Loading required package: tidyverse\n",
      "Registered S3 methods overwritten by 'ggplot2':\n",
      "  method         from \n",
      "  [.quosures     rlang\n",
      "  c.quosures     rlang\n",
      "  print.quosures rlang\n",
      "Registered S3 method overwritten by 'rvest':\n",
      "  method            from\n",
      "  read_xml.response xml2\n",
      "── Attaching packages ─────────────────────────────────────── tidyverse 1.2.1 ──\n",
      "✔ ggplot2 3.1.1       ✔ purrr   0.3.2  \n",
      "✔ tibble  2.1.1       ✔ dplyr   0.8.0.1\n",
      "✔ tidyr   0.8.3       ✔ stringr 1.4.0  \n",
      "✔ readr   1.3.1       ✔ forcats 0.4.0  \n",
      "── Conflicts ────────────────────────────────────────── tidyverse_conflicts() ──\n",
      "✖ dplyr::filter() masks stats::filter()\n",
      "✖ dplyr::lag()    masks stats::lag()\n"
     ]
    }
   ],
   "source": [
    "require(tidyverse)"
   ]
  },
  {
   "cell_type": "markdown",
   "metadata": {},
   "source": [
    "# Review\n",
    "For now, we are going to work with the following dplyr functions\n",
    "    * filter\n",
    "    * arrange\n",
    "    * select\n",
    "    * mutate"
   ]
  },
  {
   "cell_type": "markdown",
   "metadata": {},
   "source": [
    "Today we are going to work on `midwest` dataset. It has demographic information of midwest counties"
   ]
  },
  {
   "cell_type": "code",
   "execution_count": 2,
   "metadata": {
    "scrolled": true
   },
   "outputs": [
    {
     "data": {
      "text/html": [
       "<table>\n",
       "<thead><tr><th scope=col>PID</th><th scope=col>county</th><th scope=col>state</th><th scope=col>area</th><th scope=col>poptotal</th><th scope=col>popdensity</th><th scope=col>popwhite</th><th scope=col>popblack</th><th scope=col>popamerindian</th><th scope=col>popasian</th><th scope=col>...</th><th scope=col>percollege</th><th scope=col>percprof</th><th scope=col>poppovertyknown</th><th scope=col>percpovertyknown</th><th scope=col>percbelowpoverty</th><th scope=col>percchildbelowpovert</th><th scope=col>percadultpoverty</th><th scope=col>percelderlypoverty</th><th scope=col>inmetro</th><th scope=col>category</th></tr></thead>\n",
       "<tbody>\n",
       "\t<tr><td>561      </td><td>ADAMS    </td><td>IL       </td><td>0.052    </td><td>66090    </td><td>1270.9615</td><td>63917    </td><td>1702     </td><td>98       </td><td>249      </td><td>...      </td><td>19.63139 </td><td>4.355859 </td><td>63628    </td><td>96.27478 </td><td>13.151443</td><td>18.01172 </td><td>11.009776</td><td>12.443812</td><td>0        </td><td>AAR      </td></tr>\n",
       "\t<tr><td>562      </td><td>ALEXANDER</td><td>IL       </td><td>0.014    </td><td>10626    </td><td> 759.0000</td><td> 7054    </td><td>3496     </td><td>19       </td><td> 48      </td><td>...      </td><td>11.24331 </td><td>2.870315 </td><td>10529    </td><td>99.08714 </td><td>32.244278</td><td>45.82651 </td><td>27.385647</td><td>25.228976</td><td>0        </td><td>LHR      </td></tr>\n",
       "\t<tr><td>563      </td><td>BOND     </td><td>IL       </td><td>0.022    </td><td>14991    </td><td> 681.4091</td><td>14477    </td><td> 429     </td><td>35       </td><td> 16      </td><td>...      </td><td>17.03382 </td><td>4.488572 </td><td>14235    </td><td>94.95697 </td><td>12.068844</td><td>14.03606 </td><td>10.852090</td><td>12.697410</td><td>0        </td><td>AAR      </td></tr>\n",
       "\t<tr><td>564      </td><td>BOONE    </td><td>IL       </td><td>0.017    </td><td>30806    </td><td>1812.1176</td><td>29344    </td><td> 127     </td><td>46       </td><td>150      </td><td>...      </td><td>17.27895 </td><td>4.197800 </td><td>30337    </td><td>98.47757 </td><td> 7.209019</td><td>11.17954 </td><td> 5.536013</td><td> 6.217047</td><td>1        </td><td>ALU      </td></tr>\n",
       "\t<tr><td>565      </td><td>BROWN    </td><td>IL       </td><td>0.018    </td><td> 5836    </td><td> 324.2222</td><td> 5264    </td><td> 547     </td><td>14       </td><td>  5      </td><td>...      </td><td>14.47600 </td><td>3.367680 </td><td> 4815    </td><td>82.50514 </td><td>13.520249</td><td>13.02289 </td><td>11.143211</td><td>19.200000</td><td>0        </td><td>AAR      </td></tr>\n",
       "\t<tr><td>566      </td><td>BUREAU   </td><td>IL       </td><td>0.050    </td><td>35688    </td><td> 713.7600</td><td>35157    </td><td>  50     </td><td>65       </td><td>195      </td><td>...      </td><td>18.90462 </td><td>3.275891 </td><td>35107    </td><td>98.37200 </td><td>10.399635</td><td>14.15882 </td><td> 8.179287</td><td>11.008586</td><td>0        </td><td>AAR      </td></tr>\n",
       "</tbody>\n",
       "</table>\n"
      ],
      "text/latex": [
       "\\begin{tabular}{r|llllllllllllllllllllllllllll}\n",
       " PID & county & state & area & poptotal & popdensity & popwhite & popblack & popamerindian & popasian & ... & percollege & percprof & poppovertyknown & percpovertyknown & percbelowpoverty & percchildbelowpovert & percadultpoverty & percelderlypoverty & inmetro & category\\\\\n",
       "\\hline\n",
       "\t 561       & ADAMS     & IL        & 0.052     & 66090     & 1270.9615 & 63917     & 1702      & 98        & 249       & ...       & 19.63139  & 4.355859  & 63628     & 96.27478  & 13.151443 & 18.01172  & 11.009776 & 12.443812 & 0         & AAR      \\\\\n",
       "\t 562       & ALEXANDER & IL        & 0.014     & 10626     &  759.0000 &  7054     & 3496      & 19        &  48       & ...       & 11.24331  & 2.870315  & 10529     & 99.08714  & 32.244278 & 45.82651  & 27.385647 & 25.228976 & 0         & LHR      \\\\\n",
       "\t 563       & BOND      & IL        & 0.022     & 14991     &  681.4091 & 14477     &  429      & 35        &  16       & ...       & 17.03382  & 4.488572  & 14235     & 94.95697  & 12.068844 & 14.03606  & 10.852090 & 12.697410 & 0         & AAR      \\\\\n",
       "\t 564       & BOONE     & IL        & 0.017     & 30806     & 1812.1176 & 29344     &  127      & 46        & 150       & ...       & 17.27895  & 4.197800  & 30337     & 98.47757  &  7.209019 & 11.17954  &  5.536013 &  6.217047 & 1         & ALU      \\\\\n",
       "\t 565       & BROWN     & IL        & 0.018     &  5836     &  324.2222 &  5264     &  547      & 14        &   5       & ...       & 14.47600  & 3.367680  &  4815     & 82.50514  & 13.520249 & 13.02289  & 11.143211 & 19.200000 & 0         & AAR      \\\\\n",
       "\t 566       & BUREAU    & IL        & 0.050     & 35688     &  713.7600 & 35157     &   50      & 65        & 195       & ...       & 18.90462  & 3.275891  & 35107     & 98.37200  & 10.399635 & 14.15882  &  8.179287 & 11.008586 & 0         & AAR      \\\\\n",
       "\\end{tabular}\n"
      ],
      "text/markdown": [
       "\n",
       "| PID | county | state | area | poptotal | popdensity | popwhite | popblack | popamerindian | popasian | ... | percollege | percprof | poppovertyknown | percpovertyknown | percbelowpoverty | percchildbelowpovert | percadultpoverty | percelderlypoverty | inmetro | category |\n",
       "|---|---|---|---|---|---|---|---|---|---|---|---|---|---|---|---|---|---|---|---|---|\n",
       "| 561       | ADAMS     | IL        | 0.052     | 66090     | 1270.9615 | 63917     | 1702      | 98        | 249       | ...       | 19.63139  | 4.355859  | 63628     | 96.27478  | 13.151443 | 18.01172  | 11.009776 | 12.443812 | 0         | AAR       |\n",
       "| 562       | ALEXANDER | IL        | 0.014     | 10626     |  759.0000 |  7054     | 3496      | 19        |  48       | ...       | 11.24331  | 2.870315  | 10529     | 99.08714  | 32.244278 | 45.82651  | 27.385647 | 25.228976 | 0         | LHR       |\n",
       "| 563       | BOND      | IL        | 0.022     | 14991     |  681.4091 | 14477     |  429      | 35        |  16       | ...       | 17.03382  | 4.488572  | 14235     | 94.95697  | 12.068844 | 14.03606  | 10.852090 | 12.697410 | 0         | AAR       |\n",
       "| 564       | BOONE     | IL        | 0.017     | 30806     | 1812.1176 | 29344     |  127      | 46        | 150       | ...       | 17.27895  | 4.197800  | 30337     | 98.47757  |  7.209019 | 11.17954  |  5.536013 |  6.217047 | 1         | ALU       |\n",
       "| 565       | BROWN     | IL        | 0.018     |  5836     |  324.2222 |  5264     |  547      | 14        |   5       | ...       | 14.47600  | 3.367680  |  4815     | 82.50514  | 13.520249 | 13.02289  | 11.143211 | 19.200000 | 0         | AAR       |\n",
       "| 566       | BUREAU    | IL        | 0.050     | 35688     |  713.7600 | 35157     |   50      | 65        | 195       | ...       | 18.90462  | 3.275891  | 35107     | 98.37200  | 10.399635 | 14.15882  |  8.179287 | 11.008586 | 0         | AAR       |\n",
       "\n"
      ],
      "text/plain": [
       "  PID county    state area  poptotal popdensity popwhite popblack popamerindian\n",
       "1 561 ADAMS     IL    0.052 66090    1270.9615  63917    1702     98           \n",
       "2 562 ALEXANDER IL    0.014 10626     759.0000   7054    3496     19           \n",
       "3 563 BOND      IL    0.022 14991     681.4091  14477     429     35           \n",
       "4 564 BOONE     IL    0.017 30806    1812.1176  29344     127     46           \n",
       "5 565 BROWN     IL    0.018  5836     324.2222   5264     547     14           \n",
       "6 566 BUREAU    IL    0.050 35688     713.7600  35157      50     65           \n",
       "  popasian ... percollege percprof poppovertyknown percpovertyknown\n",
       "1 249      ... 19.63139   4.355859 63628           96.27478        \n",
       "2  48      ... 11.24331   2.870315 10529           99.08714        \n",
       "3  16      ... 17.03382   4.488572 14235           94.95697        \n",
       "4 150      ... 17.27895   4.197800 30337           98.47757        \n",
       "5   5      ... 14.47600   3.367680  4815           82.50514        \n",
       "6 195      ... 18.90462   3.275891 35107           98.37200        \n",
       "  percbelowpoverty percchildbelowpovert percadultpoverty percelderlypoverty\n",
       "1 13.151443        18.01172             11.009776        12.443812         \n",
       "2 32.244278        45.82651             27.385647        25.228976         \n",
       "3 12.068844        14.03606             10.852090        12.697410         \n",
       "4  7.209019        11.17954              5.536013         6.217047         \n",
       "5 13.520249        13.02289             11.143211        19.200000         \n",
       "6 10.399635        14.15882              8.179287        11.008586         \n",
       "  inmetro category\n",
       "1 0       AAR     \n",
       "2 0       LHR     \n",
       "3 0       AAR     \n",
       "4 1       ALU     \n",
       "5 0       AAR     \n",
       "6 0       AAR     "
      ]
     },
     "metadata": {},
     "output_type": "display_data"
    }
   ],
   "source": [
    "head(midwest)"
   ]
  },
  {
   "cell_type": "code",
   "execution_count": 3,
   "metadata": {},
   "outputs": [],
   "source": [
    "?midwest"
   ]
  },
  {
   "cell_type": "markdown",
   "metadata": {},
   "source": [
    "#### Filter: Create a new dataset called `michigan` which only consist of michigan counties"
   ]
  },
  {
   "cell_type": "code",
   "execution_count": 4,
   "metadata": {},
   "outputs": [],
   "source": [
    "michigan = midwest %>% filter(state == 'MI')"
   ]
  },
  {
   "cell_type": "markdown",
   "metadata": {},
   "source": [
    "#### Arrange: Print top 10  Michigan counties by decsending area size "
   ]
  },
  {
   "cell_type": "code",
   "execution_count": 5,
   "metadata": {},
   "outputs": [
    {
     "data": {
      "text/html": [
       "<table>\n",
       "<thead><tr><th scope=col>PID</th><th scope=col>county</th><th scope=col>state</th><th scope=col>area</th><th scope=col>poptotal</th><th scope=col>popdensity</th><th scope=col>popwhite</th><th scope=col>popblack</th><th scope=col>popamerindian</th><th scope=col>popasian</th><th scope=col>...</th><th scope=col>percollege</th><th scope=col>percprof</th><th scope=col>poppovertyknown</th><th scope=col>percpovertyknown</th><th scope=col>percbelowpoverty</th><th scope=col>percchildbelowpovert</th><th scope=col>percadultpoverty</th><th scope=col>percelderlypoverty</th><th scope=col>inmetro</th><th scope=col>category</th></tr></thead>\n",
       "<tbody>\n",
       "\t<tr><td>1248       </td><td>MARQUETTE  </td><td>MI         </td><td>0.110      </td><td>70887      </td><td>644.4273   </td><td>68027      </td><td>1170       </td><td> 943       </td><td>538        </td><td>...        </td><td>26.76355   </td><td>6.799415   </td><td>66398      </td><td>93.66739   </td><td>12.60881   </td><td>14.26216   </td><td>11.84465   </td><td>12.52389   </td><td>0          </td><td>HAR        </td></tr>\n",
       "\t<tr><td>1213       </td><td>CHIPPEWA   </td><td>MI         </td><td>0.078      </td><td>34604      </td><td>443.6410   </td><td>28353      </td><td>2184       </td><td>3820       </td><td>152        </td><td>...        </td><td>16.93977   </td><td>3.808129   </td><td>29486      </td><td>85.20980   </td><td>17.07590   </td><td>20.95597   </td><td>16.10350   </td><td>14.33915   </td><td>0          </td><td>AAR        </td></tr>\n",
       "\t<tr><td>1262       </td><td>ONTONAGON  </td><td>MI         </td><td>0.078      </td><td> 8854      </td><td>113.5128   </td><td> 8723      </td><td>   4       </td><td> 109       </td><td> 15        </td><td>...        </td><td>15.95676   </td><td>2.662149   </td><td> 8712      </td><td>98.39621   </td><td>13.18871   </td><td>16.51637   </td><td>11.80804   </td><td>12.80000   </td><td>0          </td><td>AAR        </td></tr>\n",
       "\t<tr><td>1273       </td><td>SCHOOLCRAFT</td><td>MI         </td><td>0.075      </td><td> 8302      </td><td>110.6933   </td><td> 7755      </td><td>   7       </td><td> 519       </td><td> 13        </td><td>...        </td><td>14.56672   </td><td>2.764487   </td><td> 8218      </td><td>98.98820   </td><td>16.60988   </td><td>20.72882   </td><td>15.32121   </td><td>14.89899   </td><td>0          </td><td>AAR        </td></tr>\n",
       "\t<tr><td>1232       </td><td>IRON       </td><td>MI         </td><td>0.070      </td><td>13175      </td><td>188.2143   </td><td>13028      </td><td>   4       </td><td> 102       </td><td> 32        </td><td>...        </td><td>15.45758   </td><td>3.283302   </td><td>12886      </td><td>97.80645   </td><td>17.11935   </td><td>23.32412   </td><td>14.45616   </td><td>16.51224   </td><td>0          </td><td>AAR        </td></tr>\n",
       "\t<tr><td>1217       </td><td>DELTA      </td><td>MI         </td><td>0.069      </td><td>37780      </td><td>547.5362   </td><td>36819      </td><td>  16       </td><td> 809       </td><td> 99        </td><td>...        </td><td>18.91240   </td><td>3.525903   </td><td>37242      </td><td>98.57597   </td><td>14.61253   </td><td>18.59113   </td><td>13.12755   </td><td>13.10731   </td><td>0          </td><td>AAR        </td></tr>\n",
       "\t<tr><td>1223       </td><td>GOGEBIC    </td><td>MI         </td><td>0.068      </td><td>18052      </td><td>265.4706   </td><td>17486      </td><td> 243       </td><td> 283       </td><td> 26        </td><td>...        </td><td>21.17308   </td><td>3.352805   </td><td>17385      </td><td>96.30512   </td><td>14.88064   </td><td>19.54478   </td><td>13.59873   </td><td>13.25794   </td><td>0          </td><td>AAR        </td></tr>\n",
       "\t<tr><td>1251       </td><td>MENOMINEE  </td><td>MI         </td><td>0.064      </td><td>24920      </td><td>389.3750   </td><td>24464      </td><td>   7       </td><td> 382       </td><td> 60        </td><td>...        </td><td>15.08417   </td><td>2.652295   </td><td>24562      </td><td>98.56340   </td><td>12.75140   </td><td>14.06867   </td><td>11.30868   </td><td>14.55126   </td><td>0          </td><td>AAR        </td></tr>\n",
       "\t<tr><td>1227       </td><td>HOUGHTON   </td><td>MI         </td><td>0.060      </td><td>35446      </td><td>590.7667   </td><td>34469      </td><td> 158       </td><td> 153       </td><td>610        </td><td>...        </td><td>24.76509   </td><td>7.328296   </td><td>32448      </td><td>91.54206   </td><td>21.03674   </td><td>21.19898   </td><td>23.69715   </td><td>14.57849   </td><td>0          </td><td>AHR        </td></tr>\n",
       "\t<tr><td>1245       </td><td>MACKINAC   </td><td>MI         </td><td>0.059      </td><td>10674      </td><td>180.9153   </td><td> 8955      </td><td>   5       </td><td>1691       </td><td> 11        </td><td>...        </td><td>15.28787   </td><td>2.780883   </td><td>10570      </td><td>99.02567   </td><td>16.40492   </td><td>22.24231   </td><td>14.99346   </td><td>12.90717   </td><td>0          </td><td>AAR        </td></tr>\n",
       "</tbody>\n",
       "</table>\n"
      ],
      "text/latex": [
       "\\begin{tabular}{r|llllllllllllllllllllllllllll}\n",
       " PID & county & state & area & poptotal & popdensity & popwhite & popblack & popamerindian & popasian & ... & percollege & percprof & poppovertyknown & percpovertyknown & percbelowpoverty & percchildbelowpovert & percadultpoverty & percelderlypoverty & inmetro & category\\\\\n",
       "\\hline\n",
       "\t 1248        & MARQUETTE   & MI          & 0.110       & 70887       & 644.4273    & 68027       & 1170        &  943        & 538         & ...         & 26.76355    & 6.799415    & 66398       & 93.66739    & 12.60881    & 14.26216    & 11.84465    & 12.52389    & 0           & HAR        \\\\\n",
       "\t 1213        & CHIPPEWA    & MI          & 0.078       & 34604       & 443.6410    & 28353       & 2184        & 3820        & 152         & ...         & 16.93977    & 3.808129    & 29486       & 85.20980    & 17.07590    & 20.95597    & 16.10350    & 14.33915    & 0           & AAR        \\\\\n",
       "\t 1262        & ONTONAGON   & MI          & 0.078       &  8854       & 113.5128    &  8723       &    4        &  109        &  15         & ...         & 15.95676    & 2.662149    &  8712       & 98.39621    & 13.18871    & 16.51637    & 11.80804    & 12.80000    & 0           & AAR        \\\\\n",
       "\t 1273        & SCHOOLCRAFT & MI          & 0.075       &  8302       & 110.6933    &  7755       &    7        &  519        &  13         & ...         & 14.56672    & 2.764487    &  8218       & 98.98820    & 16.60988    & 20.72882    & 15.32121    & 14.89899    & 0           & AAR        \\\\\n",
       "\t 1232        & IRON        & MI          & 0.070       & 13175       & 188.2143    & 13028       &    4        &  102        &  32         & ...         & 15.45758    & 3.283302    & 12886       & 97.80645    & 17.11935    & 23.32412    & 14.45616    & 16.51224    & 0           & AAR        \\\\\n",
       "\t 1217        & DELTA       & MI          & 0.069       & 37780       & 547.5362    & 36819       &   16        &  809        &  99         & ...         & 18.91240    & 3.525903    & 37242       & 98.57597    & 14.61253    & 18.59113    & 13.12755    & 13.10731    & 0           & AAR        \\\\\n",
       "\t 1223        & GOGEBIC     & MI          & 0.068       & 18052       & 265.4706    & 17486       &  243        &  283        &  26         & ...         & 21.17308    & 3.352805    & 17385       & 96.30512    & 14.88064    & 19.54478    & 13.59873    & 13.25794    & 0           & AAR        \\\\\n",
       "\t 1251        & MENOMINEE   & MI          & 0.064       & 24920       & 389.3750    & 24464       &    7        &  382        &  60         & ...         & 15.08417    & 2.652295    & 24562       & 98.56340    & 12.75140    & 14.06867    & 11.30868    & 14.55126    & 0           & AAR        \\\\\n",
       "\t 1227        & HOUGHTON    & MI          & 0.060       & 35446       & 590.7667    & 34469       &  158        &  153        & 610         & ...         & 24.76509    & 7.328296    & 32448       & 91.54206    & 21.03674    & 21.19898    & 23.69715    & 14.57849    & 0           & AHR        \\\\\n",
       "\t 1245        & MACKINAC    & MI          & 0.059       & 10674       & 180.9153    &  8955       &    5        & 1691        &  11         & ...         & 15.28787    & 2.780883    & 10570       & 99.02567    & 16.40492    & 22.24231    & 14.99346    & 12.90717    & 0           & AAR        \\\\\n",
       "\\end{tabular}\n"
      ],
      "text/markdown": [
       "\n",
       "| PID | county | state | area | poptotal | popdensity | popwhite | popblack | popamerindian | popasian | ... | percollege | percprof | poppovertyknown | percpovertyknown | percbelowpoverty | percchildbelowpovert | percadultpoverty | percelderlypoverty | inmetro | category |\n",
       "|---|---|---|---|---|---|---|---|---|---|---|---|---|---|---|---|---|---|---|---|---|\n",
       "| 1248        | MARQUETTE   | MI          | 0.110       | 70887       | 644.4273    | 68027       | 1170        |  943        | 538         | ...         | 26.76355    | 6.799415    | 66398       | 93.66739    | 12.60881    | 14.26216    | 11.84465    | 12.52389    | 0           | HAR         |\n",
       "| 1213        | CHIPPEWA    | MI          | 0.078       | 34604       | 443.6410    | 28353       | 2184        | 3820        | 152         | ...         | 16.93977    | 3.808129    | 29486       | 85.20980    | 17.07590    | 20.95597    | 16.10350    | 14.33915    | 0           | AAR         |\n",
       "| 1262        | ONTONAGON   | MI          | 0.078       |  8854       | 113.5128    |  8723       |    4        |  109        |  15         | ...         | 15.95676    | 2.662149    |  8712       | 98.39621    | 13.18871    | 16.51637    | 11.80804    | 12.80000    | 0           | AAR         |\n",
       "| 1273        | SCHOOLCRAFT | MI          | 0.075       |  8302       | 110.6933    |  7755       |    7        |  519        |  13         | ...         | 14.56672    | 2.764487    |  8218       | 98.98820    | 16.60988    | 20.72882    | 15.32121    | 14.89899    | 0           | AAR         |\n",
       "| 1232        | IRON        | MI          | 0.070       | 13175       | 188.2143    | 13028       |    4        |  102        |  32         | ...         | 15.45758    | 3.283302    | 12886       | 97.80645    | 17.11935    | 23.32412    | 14.45616    | 16.51224    | 0           | AAR         |\n",
       "| 1217        | DELTA       | MI          | 0.069       | 37780       | 547.5362    | 36819       |   16        |  809        |  99         | ...         | 18.91240    | 3.525903    | 37242       | 98.57597    | 14.61253    | 18.59113    | 13.12755    | 13.10731    | 0           | AAR         |\n",
       "| 1223        | GOGEBIC     | MI          | 0.068       | 18052       | 265.4706    | 17486       |  243        |  283        |  26         | ...         | 21.17308    | 3.352805    | 17385       | 96.30512    | 14.88064    | 19.54478    | 13.59873    | 13.25794    | 0           | AAR         |\n",
       "| 1251        | MENOMINEE   | MI          | 0.064       | 24920       | 389.3750    | 24464       |    7        |  382        |  60         | ...         | 15.08417    | 2.652295    | 24562       | 98.56340    | 12.75140    | 14.06867    | 11.30868    | 14.55126    | 0           | AAR         |\n",
       "| 1227        | HOUGHTON    | MI          | 0.060       | 35446       | 590.7667    | 34469       |  158        |  153        | 610         | ...         | 24.76509    | 7.328296    | 32448       | 91.54206    | 21.03674    | 21.19898    | 23.69715    | 14.57849    | 0           | AHR         |\n",
       "| 1245        | MACKINAC    | MI          | 0.059       | 10674       | 180.9153    |  8955       |    5        | 1691        |  11         | ...         | 15.28787    | 2.780883    | 10570       | 99.02567    | 16.40492    | 22.24231    | 14.99346    | 12.90717    | 0           | AAR         |\n",
       "\n"
      ],
      "text/plain": [
       "   PID  county      state area  poptotal popdensity popwhite popblack\n",
       "1  1248 MARQUETTE   MI    0.110 70887    644.4273   68027    1170    \n",
       "2  1213 CHIPPEWA    MI    0.078 34604    443.6410   28353    2184    \n",
       "3  1262 ONTONAGON   MI    0.078  8854    113.5128    8723       4    \n",
       "4  1273 SCHOOLCRAFT MI    0.075  8302    110.6933    7755       7    \n",
       "5  1232 IRON        MI    0.070 13175    188.2143   13028       4    \n",
       "6  1217 DELTA       MI    0.069 37780    547.5362   36819      16    \n",
       "7  1223 GOGEBIC     MI    0.068 18052    265.4706   17486     243    \n",
       "8  1251 MENOMINEE   MI    0.064 24920    389.3750   24464       7    \n",
       "9  1227 HOUGHTON    MI    0.060 35446    590.7667   34469     158    \n",
       "10 1245 MACKINAC    MI    0.059 10674    180.9153    8955       5    \n",
       "   popamerindian popasian ... percollege percprof poppovertyknown\n",
       "1   943          538      ... 26.76355   6.799415 66398          \n",
       "2  3820          152      ... 16.93977   3.808129 29486          \n",
       "3   109           15      ... 15.95676   2.662149  8712          \n",
       "4   519           13      ... 14.56672   2.764487  8218          \n",
       "5   102           32      ... 15.45758   3.283302 12886          \n",
       "6   809           99      ... 18.91240   3.525903 37242          \n",
       "7   283           26      ... 21.17308   3.352805 17385          \n",
       "8   382           60      ... 15.08417   2.652295 24562          \n",
       "9   153          610      ... 24.76509   7.328296 32448          \n",
       "10 1691           11      ... 15.28787   2.780883 10570          \n",
       "   percpovertyknown percbelowpoverty percchildbelowpovert percadultpoverty\n",
       "1  93.66739         12.60881         14.26216             11.84465        \n",
       "2  85.20980         17.07590         20.95597             16.10350        \n",
       "3  98.39621         13.18871         16.51637             11.80804        \n",
       "4  98.98820         16.60988         20.72882             15.32121        \n",
       "5  97.80645         17.11935         23.32412             14.45616        \n",
       "6  98.57597         14.61253         18.59113             13.12755        \n",
       "7  96.30512         14.88064         19.54478             13.59873        \n",
       "8  98.56340         12.75140         14.06867             11.30868        \n",
       "9  91.54206         21.03674         21.19898             23.69715        \n",
       "10 99.02567         16.40492         22.24231             14.99346        \n",
       "   percelderlypoverty inmetro category\n",
       "1  12.52389           0       HAR     \n",
       "2  14.33915           0       AAR     \n",
       "3  12.80000           0       AAR     \n",
       "4  14.89899           0       AAR     \n",
       "5  16.51224           0       AAR     \n",
       "6  13.10731           0       AAR     \n",
       "7  13.25794           0       AAR     \n",
       "8  14.55126           0       AAR     \n",
       "9  14.57849           0       AHR     \n",
       "10 12.90717           0       AAR     "
      ]
     },
     "metadata": {},
     "output_type": "display_data"
    }
   ],
   "source": [
    "michigan %>% arrange(desc(area)) %>% head(10)"
   ]
  },
  {
   "cell_type": "markdown",
   "metadata": {},
   "source": [
    "#### Select: Print the same plot, this time only with county name and area"
   ]
  },
  {
   "cell_type": "code",
   "execution_count": 6,
   "metadata": {},
   "outputs": [
    {
     "data": {
      "text/html": [
       "<table>\n",
       "<thead><tr><th scope=col>county</th><th scope=col>area</th></tr></thead>\n",
       "<tbody>\n",
       "\t<tr><td>MARQUETTE  </td><td>0.110      </td></tr>\n",
       "\t<tr><td>CHIPPEWA   </td><td>0.078      </td></tr>\n",
       "\t<tr><td>ONTONAGON  </td><td>0.078      </td></tr>\n",
       "\t<tr><td>SCHOOLCRAFT</td><td>0.075      </td></tr>\n",
       "\t<tr><td>IRON       </td><td>0.070      </td></tr>\n",
       "\t<tr><td>DELTA      </td><td>0.069      </td></tr>\n",
       "\t<tr><td>GOGEBIC    </td><td>0.068      </td></tr>\n",
       "\t<tr><td>MENOMINEE  </td><td>0.064      </td></tr>\n",
       "\t<tr><td>HOUGHTON   </td><td>0.060      </td></tr>\n",
       "\t<tr><td>MACKINAC   </td><td>0.059      </td></tr>\n",
       "</tbody>\n",
       "</table>\n"
      ],
      "text/latex": [
       "\\begin{tabular}{r|ll}\n",
       " county & area\\\\\n",
       "\\hline\n",
       "\t MARQUETTE   & 0.110      \\\\\n",
       "\t CHIPPEWA    & 0.078      \\\\\n",
       "\t ONTONAGON   & 0.078      \\\\\n",
       "\t SCHOOLCRAFT & 0.075      \\\\\n",
       "\t IRON        & 0.070      \\\\\n",
       "\t DELTA       & 0.069      \\\\\n",
       "\t GOGEBIC     & 0.068      \\\\\n",
       "\t MENOMINEE   & 0.064      \\\\\n",
       "\t HOUGHTON    & 0.060      \\\\\n",
       "\t MACKINAC    & 0.059      \\\\\n",
       "\\end{tabular}\n"
      ],
      "text/markdown": [
       "\n",
       "| county | area |\n",
       "|---|---|\n",
       "| MARQUETTE   | 0.110       |\n",
       "| CHIPPEWA    | 0.078       |\n",
       "| ONTONAGON   | 0.078       |\n",
       "| SCHOOLCRAFT | 0.075       |\n",
       "| IRON        | 0.070       |\n",
       "| DELTA       | 0.069       |\n",
       "| GOGEBIC     | 0.068       |\n",
       "| MENOMINEE   | 0.064       |\n",
       "| HOUGHTON    | 0.060       |\n",
       "| MACKINAC    | 0.059       |\n",
       "\n"
      ],
      "text/plain": [
       "   county      area \n",
       "1  MARQUETTE   0.110\n",
       "2  CHIPPEWA    0.078\n",
       "3  ONTONAGON   0.078\n",
       "4  SCHOOLCRAFT 0.075\n",
       "5  IRON        0.070\n",
       "6  DELTA       0.069\n",
       "7  GOGEBIC     0.068\n",
       "8  MENOMINEE   0.064\n",
       "9  HOUGHTON    0.060\n",
       "10 MACKINAC    0.059"
      ]
     },
     "metadata": {},
     "output_type": "display_data"
    }
   ],
   "source": [
    "michigan %>% arrange(desc(area)) %>% head(10) %>% select(county, area)"
   ]
  },
  {
   "cell_type": "markdown",
   "metadata": {},
   "source": [
    "#### Mutate: This time use `diamonds` dataset and create a new variable called `volume`. Simply by multiplying `x`,`y` and `z` and print top 10 by volume"
   ]
  },
  {
   "cell_type": "code",
   "execution_count": 7,
   "metadata": {},
   "outputs": [
    {
     "data": {
      "text/html": [
       "<table>\n",
       "<thead><tr><th scope=col>carat</th><th scope=col>cut</th><th scope=col>color</th><th scope=col>clarity</th><th scope=col>depth</th><th scope=col>table</th><th scope=col>price</th><th scope=col>x</th><th scope=col>y</th><th scope=col>z</th><th scope=col>volume</th></tr></thead>\n",
       "<tbody>\n",
       "\t<tr><td>0.31     </td><td>Good     </td><td>J        </td><td>SI2      </td><td>63.3     </td><td>58       </td><td>335      </td><td>4.34     </td><td>4.35     </td><td>2.75     </td><td>51.91725 </td></tr>\n",
       "\t<tr><td>0.29     </td><td>Premium  </td><td>I        </td><td>VS2      </td><td>62.4     </td><td>58       </td><td>334      </td><td>4.20     </td><td>4.23     </td><td>2.63     </td><td>46.72458 </td></tr>\n",
       "\t<tr><td>0.26     </td><td>Very Good</td><td>H        </td><td>SI1      </td><td>61.9     </td><td>55       </td><td>337      </td><td>4.07     </td><td>4.11     </td><td>2.53     </td><td>42.32108 </td></tr>\n",
       "\t<tr><td>0.24     </td><td>Very Good</td><td>I        </td><td>VVS1     </td><td>62.3     </td><td>57       </td><td>336      </td><td>3.95     </td><td>3.98     </td><td>2.47     </td><td>38.83087 </td></tr>\n",
       "\t<tr><td>0.23     </td><td>Very Good</td><td>H        </td><td>VS1      </td><td>59.4     </td><td>61       </td><td>338      </td><td>4.00     </td><td>4.05     </td><td>2.39     </td><td>38.71800 </td></tr>\n",
       "\t<tr><td>0.24     </td><td>Very Good</td><td>J        </td><td>VVS2     </td><td>62.8     </td><td>57       </td><td>336      </td><td>3.94     </td><td>3.96     </td><td>2.48     </td><td>38.69395 </td></tr>\n",
       "\t<tr><td>0.23     </td><td>Ideal    </td><td>E        </td><td>SI2      </td><td>61.5     </td><td>55       </td><td>326      </td><td>3.95     </td><td>3.98     </td><td>2.43     </td><td>38.20203 </td></tr>\n",
       "\t<tr><td>0.23     </td><td>Good     </td><td>E        </td><td>VS1      </td><td>56.9     </td><td>65       </td><td>327      </td><td>4.05     </td><td>4.07     </td><td>2.31     </td><td>38.07688 </td></tr>\n",
       "\t<tr><td>0.22     </td><td>Fair     </td><td>E        </td><td>VS2      </td><td>65.1     </td><td>61       </td><td>337      </td><td>3.87     </td><td>3.78     </td><td>2.49     </td><td>36.42521 </td></tr>\n",
       "\t<tr><td>0.21     </td><td>Premium  </td><td>E        </td><td>SI1      </td><td>59.8     </td><td>61       </td><td>326      </td><td>3.89     </td><td>3.84     </td><td>2.31     </td><td>34.50586 </td></tr>\n",
       "</tbody>\n",
       "</table>\n"
      ],
      "text/latex": [
       "\\begin{tabular}{r|lllllllllll}\n",
       " carat & cut & color & clarity & depth & table & price & x & y & z & volume\\\\\n",
       "\\hline\n",
       "\t 0.31      & Good      & J         & SI2       & 63.3      & 58        & 335       & 4.34      & 4.35      & 2.75      & 51.91725 \\\\\n",
       "\t 0.29      & Premium   & I         & VS2       & 62.4      & 58        & 334       & 4.20      & 4.23      & 2.63      & 46.72458 \\\\\n",
       "\t 0.26      & Very Good & H         & SI1       & 61.9      & 55        & 337       & 4.07      & 4.11      & 2.53      & 42.32108 \\\\\n",
       "\t 0.24      & Very Good & I         & VVS1      & 62.3      & 57        & 336       & 3.95      & 3.98      & 2.47      & 38.83087 \\\\\n",
       "\t 0.23      & Very Good & H         & VS1       & 59.4      & 61        & 338       & 4.00      & 4.05      & 2.39      & 38.71800 \\\\\n",
       "\t 0.24      & Very Good & J         & VVS2      & 62.8      & 57        & 336       & 3.94      & 3.96      & 2.48      & 38.69395 \\\\\n",
       "\t 0.23      & Ideal     & E         & SI2       & 61.5      & 55        & 326       & 3.95      & 3.98      & 2.43      & 38.20203 \\\\\n",
       "\t 0.23      & Good      & E         & VS1       & 56.9      & 65        & 327       & 4.05      & 4.07      & 2.31      & 38.07688 \\\\\n",
       "\t 0.22      & Fair      & E         & VS2       & 65.1      & 61        & 337       & 3.87      & 3.78      & 2.49      & 36.42521 \\\\\n",
       "\t 0.21      & Premium   & E         & SI1       & 59.8      & 61        & 326       & 3.89      & 3.84      & 2.31      & 34.50586 \\\\\n",
       "\\end{tabular}\n"
      ],
      "text/markdown": [
       "\n",
       "| carat | cut | color | clarity | depth | table | price | x | y | z | volume |\n",
       "|---|---|---|---|---|---|---|---|---|---|---|\n",
       "| 0.31      | Good      | J         | SI2       | 63.3      | 58        | 335       | 4.34      | 4.35      | 2.75      | 51.91725  |\n",
       "| 0.29      | Premium   | I         | VS2       | 62.4      | 58        | 334       | 4.20      | 4.23      | 2.63      | 46.72458  |\n",
       "| 0.26      | Very Good | H         | SI1       | 61.9      | 55        | 337       | 4.07      | 4.11      | 2.53      | 42.32108  |\n",
       "| 0.24      | Very Good | I         | VVS1      | 62.3      | 57        | 336       | 3.95      | 3.98      | 2.47      | 38.83087  |\n",
       "| 0.23      | Very Good | H         | VS1       | 59.4      | 61        | 338       | 4.00      | 4.05      | 2.39      | 38.71800  |\n",
       "| 0.24      | Very Good | J         | VVS2      | 62.8      | 57        | 336       | 3.94      | 3.96      | 2.48      | 38.69395  |\n",
       "| 0.23      | Ideal     | E         | SI2       | 61.5      | 55        | 326       | 3.95      | 3.98      | 2.43      | 38.20203  |\n",
       "| 0.23      | Good      | E         | VS1       | 56.9      | 65        | 327       | 4.05      | 4.07      | 2.31      | 38.07688  |\n",
       "| 0.22      | Fair      | E         | VS2       | 65.1      | 61        | 337       | 3.87      | 3.78      | 2.49      | 36.42521  |\n",
       "| 0.21      | Premium   | E         | SI1       | 59.8      | 61        | 326       | 3.89      | 3.84      | 2.31      | 34.50586  |\n",
       "\n"
      ],
      "text/plain": [
       "   carat cut       color clarity depth table price x    y    z    volume  \n",
       "1  0.31  Good      J     SI2     63.3  58    335   4.34 4.35 2.75 51.91725\n",
       "2  0.29  Premium   I     VS2     62.4  58    334   4.20 4.23 2.63 46.72458\n",
       "3  0.26  Very Good H     SI1     61.9  55    337   4.07 4.11 2.53 42.32108\n",
       "4  0.24  Very Good I     VVS1    62.3  57    336   3.95 3.98 2.47 38.83087\n",
       "5  0.23  Very Good H     VS1     59.4  61    338   4.00 4.05 2.39 38.71800\n",
       "6  0.24  Very Good J     VVS2    62.8  57    336   3.94 3.96 2.48 38.69395\n",
       "7  0.23  Ideal     E     SI2     61.5  55    326   3.95 3.98 2.43 38.20203\n",
       "8  0.23  Good      E     VS1     56.9  65    327   4.05 4.07 2.31 38.07688\n",
       "9  0.22  Fair      E     VS2     65.1  61    337   3.87 3.78 2.49 36.42521\n",
       "10 0.21  Premium   E     SI1     59.8  61    326   3.89 3.84 2.31 34.50586"
      ]
     },
     "metadata": {},
     "output_type": "display_data"
    }
   ],
   "source": [
    "diamonds %>% \n",
    "mutate(volume = x*y*z) %>% \n",
    "head(10) %>% arrange(desc(volume))"
   ]
  },
  {
   "cell_type": "markdown",
   "metadata": {},
   "source": [
    "# Challenge exercises"
   ]
  },
  {
   "cell_type": "markdown",
   "metadata": {},
   "source": [
    "#### 1 Create a new dataset called `michigan_diverse` which satisfies following conditions:\n",
    "    * Only has michigan counties \n",
    "    * Counties which has more than 5 percent african-american population\n",
    "    * An in total it has at least 15 percent non-white races\n",
    "    * Only include the variables county and variables which has `pop` in its name "
   ]
  },
  {
   "cell_type": "code",
   "execution_count": null,
   "metadata": {
    "scrolled": true
   },
   "outputs": [],
   "source": []
  },
  {
   "cell_type": "markdown",
   "metadata": {},
   "source": [
    "#### 2 Show population variation of counties in a  state using box-plot. And limit the population by half a million"
   ]
  },
  {
   "cell_type": "code",
   "execution_count": null,
   "metadata": {},
   "outputs": [],
   "source": []
  },
  {
   "cell_type": "markdown",
   "metadata": {},
   "source": [
    "#### 3 Find the michigan county which is in top 15 by population as well as top 15 by area."
   ]
  },
  {
   "cell_type": "code",
   "execution_count": null,
   "metadata": {},
   "outputs": [],
   "source": []
  },
  {
   "cell_type": "markdown",
   "metadata": {},
   "source": [
    "#### 4 Show the relationship between percentage of college graduates and percantage of adult poverty in `log10` scale, conditioned on state. Also plot the best linear line (without error margin)."
   ]
  },
  {
   "cell_type": "code",
   "execution_count": null,
   "metadata": {},
   "outputs": [],
   "source": []
  },
  {
   "cell_type": "markdown",
   "metadata": {},
   "source": [
    "#### 5 Create a new variable called `poverty`, which is `Critical` if `percbelowpoverty` greater than 25, `percadultpoverty` greater than 15 and  `percelderlypoverty` greater than 10, otherwise it is `Normal`. After you create it, print out the critical Michigan counties."
   ]
  },
  {
   "cell_type": "code",
   "execution_count": null,
   "metadata": {},
   "outputs": [],
   "source": []
  }
 ],
 "metadata": {
  "kernelspec": {
   "display_name": "R",
   "language": "R",
   "name": "ir"
  },
  "language_info": {
   "codemirror_mode": "r",
   "file_extension": ".r",
   "mimetype": "text/x-r-source",
   "name": "R",
   "pygments_lexer": "r",
   "version": "3.6.1"
  }
 },
 "nbformat": 4,
 "nbformat_minor": 2
}
