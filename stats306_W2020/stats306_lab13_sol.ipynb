{
 "cells": [
  {
   "cell_type": "markdown",
   "metadata": {},
   "source": [
    "# Lab 13: Lists, Loops, Functions, Mapping"
   ]
  },
  {
   "cell_type": "code",
   "execution_count": 1,
   "metadata": {},
   "outputs": [
    {
     "name": "stderr",
     "output_type": "stream",
     "text": [
      "── \u001b[1mAttaching packages\u001b[22m ─────────────────────────────────────── tidyverse 1.3.0 ──\n",
      "\n",
      "\u001b[32m✔\u001b[39m \u001b[34mggplot2\u001b[39m 3.3.0     \u001b[32m✔\u001b[39m \u001b[34mpurrr  \u001b[39m 0.3.3\n",
      "\u001b[32m✔\u001b[39m \u001b[34mtibble \u001b[39m 2.1.3     \u001b[32m✔\u001b[39m \u001b[34mdplyr  \u001b[39m 0.8.4\n",
      "\u001b[32m✔\u001b[39m \u001b[34mtidyr  \u001b[39m 1.0.2     \u001b[32m✔\u001b[39m \u001b[34mstringr\u001b[39m 1.4.0\n",
      "\u001b[32m✔\u001b[39m \u001b[34mreadr  \u001b[39m 1.3.1     \u001b[32m✔\u001b[39m \u001b[34mforcats\u001b[39m 0.5.0\n",
      "\n",
      "── \u001b[1mConflicts\u001b[22m ────────────────────────────────────────── tidyverse_conflicts() ──\n",
      "\u001b[31m✖\u001b[39m \u001b[34mdplyr\u001b[39m::\u001b[32mfilter()\u001b[39m masks \u001b[34mstats\u001b[39m::filter()\n",
      "\u001b[31m✖\u001b[39m \u001b[34mdplyr\u001b[39m::\u001b[32mlag()\u001b[39m    masks \u001b[34mstats\u001b[39m::lag()\n",
      "\n"
     ]
    }
   ],
   "source": [
    "library(tidyverse)"
   ]
  },
  {
   "cell_type": "markdown",
   "metadata": {},
   "source": [
    "## Q1: List operations\n"
   ]
  },
  {
   "cell_type": "markdown",
   "metadata": {},
   "source": [
    "### 1. How does `[[.]]` differ from `[.]` when you are subsetting a list?"
   ]
  },
  {
   "cell_type": "code",
   "execution_count": 2,
   "metadata": {},
   "outputs": [],
   "source": [
    "x = list(1,2,3)"
   ]
  },
  {
   "cell_type": "code",
   "execution_count": 3,
   "metadata": {},
   "outputs": [
    {
     "data": {
      "text/html": [
       "<ol>\n",
       "\t<li>1</li>\n",
       "</ol>\n"
      ],
      "text/latex": [
       "\\begin{enumerate}\n",
       "\\item 1\n",
       "\\end{enumerate}\n"
      ],
      "text/markdown": [
       "1. 1\n",
       "\n",
       "\n"
      ],
      "text/plain": [
       "[[1]]\n",
       "[1] 1\n"
      ]
     },
     "metadata": {},
     "output_type": "display_data"
    },
    {
     "data": {
      "text/html": [
       "'list'"
      ],
      "text/latex": [
       "'list'"
      ],
      "text/markdown": [
       "'list'"
      ],
      "text/plain": [
       "[1] \"list\""
      ]
     },
     "metadata": {},
     "output_type": "display_data"
    }
   ],
   "source": [
    "x[1] # A slice from the list, still a list\n",
    "class(x[1]) "
   ]
  },
  {
   "cell_type": "code",
   "execution_count": 4,
   "metadata": {},
   "outputs": [
    {
     "data": {
      "text/html": [
       "1"
      ],
      "text/latex": [
       "1"
      ],
      "text/markdown": [
       "1"
      ],
      "text/plain": [
       "[1] 1"
      ]
     },
     "metadata": {},
     "output_type": "display_data"
    },
    {
     "data": {
      "text/html": [
       "'numeric'"
      ],
      "text/latex": [
       "'numeric'"
      ],
      "text/markdown": [
       "'numeric'"
      ],
      "text/plain": [
       "[1] \"numeric\""
      ]
     },
     "metadata": {},
     "output_type": "display_data"
    }
   ],
   "source": [
    "x[[1]] # Accessing first element of the list\n",
    "class(x[[1]])"
   ]
  },
  {
   "cell_type": "markdown",
   "metadata": {},
   "source": [
    "### 2. How do you extract the last value of an atomic vector?\n"
   ]
  },
  {
   "cell_type": "code",
   "execution_count": 5,
   "metadata": {},
   "outputs": [
    {
     "data": {
      "text/html": [
       "-1"
      ],
      "text/latex": [
       "-1"
      ],
      "text/markdown": [
       "-1"
      ],
      "text/plain": [
       "[1] -1"
      ]
     },
     "metadata": {},
     "output_type": "display_data"
    }
   ],
   "source": [
    "x  = c(-3,-2,-1)\n",
    "x[length(x)]"
   ]
  },
  {
   "cell_type": "markdown",
   "metadata": {},
   "source": [
    "### 3. How do you extract every value but the last value of an atomic vector?"
   ]
  },
  {
   "cell_type": "code",
   "execution_count": 6,
   "metadata": {},
   "outputs": [
    {
     "data": {
      "text/html": [
       "<style>\n",
       ".list-inline {list-style: none; margin:0; padding: 0}\n",
       ".list-inline>li {display: inline-block}\n",
       ".list-inline>li:not(:last-child)::after {content: \"\\00b7\"; padding: 0 .5ex}\n",
       "</style>\n",
       "<ol class=list-inline><li>-3</li><li>-2</li></ol>\n"
      ],
      "text/latex": [
       "\\begin{enumerate*}\n",
       "\\item -3\n",
       "\\item -2\n",
       "\\end{enumerate*}\n"
      ],
      "text/markdown": [
       "1. -3\n",
       "2. -2\n",
       "\n",
       "\n"
      ],
      "text/plain": [
       "[1] -3 -2"
      ]
     },
     "metadata": {},
     "output_type": "display_data"
    }
   ],
   "source": [
    "x[-length(x)]"
   ]
  },
  {
   "cell_type": "markdown",
   "metadata": {},
   "source": [
    "### 4. Why is `x[-which(x > 0)]` not the same as `x[x <= 0]` where `x` is an atomic vector?"
   ]
  },
  {
   "cell_type": "code",
   "execution_count": 7,
   "metadata": {},
   "outputs": [
    {
     "name": "stdout",
     "output_type": "stream",
     "text": [
      "numeric(0)\n",
      "[1] -3 -2 -1\n"
     ]
    }
   ],
   "source": [
    "print(x[-which(x > 0)])\n",
    "print(x[x<=0])"
   ]
  },
  {
   "cell_type": "code",
   "execution_count": 8,
   "metadata": {},
   "outputs": [
    {
     "data": {
      "text/html": [],
      "text/latex": [],
      "text/markdown": [],
      "text/plain": [
       "integer(0)"
      ]
     },
     "metadata": {},
     "output_type": "display_data"
    }
   ],
   "source": [
    "which(x > 0) # returns empty "
   ]
  },
  {
   "cell_type": "code",
   "execution_count": 9,
   "metadata": {},
   "outputs": [
    {
     "data": {
      "text/html": [
       "<style>\n",
       ".list-inline {list-style: none; margin:0; padding: 0}\n",
       ".list-inline>li {display: inline-block}\n",
       ".list-inline>li:not(:last-child)::after {content: \"\\00b7\"; padding: 0 .5ex}\n",
       "</style>\n",
       "<ol class=list-inline><li>TRUE</li><li>TRUE</li><li>TRUE</li></ol>\n"
      ],
      "text/latex": [
       "\\begin{enumerate*}\n",
       "\\item TRUE\n",
       "\\item TRUE\n",
       "\\item TRUE\n",
       "\\end{enumerate*}\n"
      ],
      "text/markdown": [
       "1. TRUE\n",
       "2. TRUE\n",
       "3. TRUE\n",
       "\n",
       "\n"
      ],
      "text/plain": [
       "[1] TRUE TRUE TRUE"
      ]
     },
     "metadata": {},
     "output_type": "display_data"
    }
   ],
   "source": [
    "x<=0"
   ]
  },
  {
   "cell_type": "markdown",
   "metadata": {},
   "source": [
    "It would work if `which` condition is not empty!"
   ]
  },
  {
   "cell_type": "code",
   "execution_count": 10,
   "metadata": {},
   "outputs": [
    {
     "name": "stdout",
     "output_type": "stream",
     "text": [
      "[1] -3 -2 -1\n",
      "[1] -3 -2 -1\n"
     ]
    }
   ],
   "source": [
    "x  = c(-3,-2,-1, 1)\n",
    "print(x[-which(x > 0)])\n",
    "print(x[x<=0])"
   ]
  },
  {
   "cell_type": "markdown",
   "metadata": {},
   "source": [
    "## Q2: While Loops: \n",
    "\n",
    "### 1. Generate random numbers from Normal(0, 1) and stop when you have more positive values than negatives. Write a function that implements above algortihm and returns number of iterations.\n",
    "Algorithm:\n",
    "1. set pc = 0 and nc = 0\n",
    "1. Generate Y~Normal(0,1)\n",
    "1. If Y>0 then pc = pc+1 otherwise nc = nc+1\n",
    "1. Repeat 2-3 until pc>nc"
   ]
  },
  {
   "cell_type": "code",
   "execution_count": 11,
   "metadata": {},
   "outputs": [],
   "source": [
    "f = function(){\n",
    "    \n",
    "    positive_counter = 0\n",
    "    negative_counter = 0\n",
    "    while(positive_counter<=negative_counter){\n",
    "        x = rnorm(1, 0, 1)\n",
    "        if(x>0){\n",
    "            positive_counter = positive_counter + 1\n",
    "        }else{\n",
    "            negative_counter = negative_counter + 1\n",
    "        }\n",
    "    }\n",
    "\n",
    "    total_iteration = negative_counter + positive_counter\n",
    "    \n",
    "    return(total_iteration)\n",
    "}"
   ]
  },
  {
   "cell_type": "code",
   "execution_count": 12,
   "metadata": {},
   "outputs": [
    {
     "data": {
      "text/html": [
       "51"
      ],
      "text/latex": [
       "51"
      ],
      "text/markdown": [
       "51"
      ],
      "text/plain": [
       "[1] 51"
      ]
     },
     "metadata": {},
     "output_type": "display_data"
    }
   ],
   "source": [
    "f()"
   ]
  },
  {
   "cell_type": "markdown",
   "metadata": {},
   "source": [
    "### 2. Call this function 100 times"
   ]
  },
  {
   "cell_type": "code",
   "execution_count": 13,
   "metadata": {},
   "outputs": [
    {
     "data": {
      "text/html": [
       "<style>\n",
       ".list-inline {list-style: none; margin:0; padding: 0}\n",
       ".list-inline>li {display: inline-block}\n",
       ".list-inline>li:not(:last-child)::after {content: \"\\00b7\"; padding: 0 .5ex}\n",
       "</style>\n",
       "<ol class=list-inline><li>153</li><li>1</li><li>3</li><li>1</li><li>3</li><li>1</li><li>1</li><li>3</li><li>1</li><li>31</li><li>1</li><li>1</li><li>1</li><li>33</li><li>1</li><li>9</li><li>1261</li><li>29</li><li>1</li><li>379</li><li>1</li><li>5</li><li>1</li><li>1</li><li>9</li><li>11</li><li>1</li><li>1</li><li>2385</li><li>35</li><li>1</li><li>5</li><li>9</li><li>17</li><li>1</li><li>27</li><li>5</li><li>3</li><li>1</li><li>1</li><li>1</li><li>5</li><li>1</li><li>1</li><li>1</li><li>1</li><li>1</li><li>143</li><li>87</li><li>1</li><li>1</li><li>1</li><li>5</li><li>1</li><li>7</li><li>15</li><li>1</li><li>54535</li><li>5</li><li>1</li><li>1</li><li>5</li><li>1</li><li>41</li><li>1</li><li>1</li><li>1</li><li>1</li><li>1</li><li>1</li><li>35</li><li>9</li><li>287</li><li>1</li><li>29</li><li>1</li><li>1</li><li>905</li><li>1</li><li>1</li><li>1</li><li>1</li><li>1</li><li>9</li><li>7</li><li>1</li><li>3441115</li><li>1</li><li>55</li><li>1</li><li>1</li><li>15</li><li>1</li><li>1</li><li>259</li><li>1</li><li>1</li><li>5</li><li>1</li><li>1</li></ol>\n"
      ],
      "text/latex": [
       "\\begin{enumerate*}\n",
       "\\item 153\n",
       "\\item 1\n",
       "\\item 3\n",
       "\\item 1\n",
       "\\item 3\n",
       "\\item 1\n",
       "\\item 1\n",
       "\\item 3\n",
       "\\item 1\n",
       "\\item 31\n",
       "\\item 1\n",
       "\\item 1\n",
       "\\item 1\n",
       "\\item 33\n",
       "\\item 1\n",
       "\\item 9\n",
       "\\item 1261\n",
       "\\item 29\n",
       "\\item 1\n",
       "\\item 379\n",
       "\\item 1\n",
       "\\item 5\n",
       "\\item 1\n",
       "\\item 1\n",
       "\\item 9\n",
       "\\item 11\n",
       "\\item 1\n",
       "\\item 1\n",
       "\\item 2385\n",
       "\\item 35\n",
       "\\item 1\n",
       "\\item 5\n",
       "\\item 9\n",
       "\\item 17\n",
       "\\item 1\n",
       "\\item 27\n",
       "\\item 5\n",
       "\\item 3\n",
       "\\item 1\n",
       "\\item 1\n",
       "\\item 1\n",
       "\\item 5\n",
       "\\item 1\n",
       "\\item 1\n",
       "\\item 1\n",
       "\\item 1\n",
       "\\item 1\n",
       "\\item 143\n",
       "\\item 87\n",
       "\\item 1\n",
       "\\item 1\n",
       "\\item 1\n",
       "\\item 5\n",
       "\\item 1\n",
       "\\item 7\n",
       "\\item 15\n",
       "\\item 1\n",
       "\\item 54535\n",
       "\\item 5\n",
       "\\item 1\n",
       "\\item 1\n",
       "\\item 5\n",
       "\\item 1\n",
       "\\item 41\n",
       "\\item 1\n",
       "\\item 1\n",
       "\\item 1\n",
       "\\item 1\n",
       "\\item 1\n",
       "\\item 1\n",
       "\\item 35\n",
       "\\item 9\n",
       "\\item 287\n",
       "\\item 1\n",
       "\\item 29\n",
       "\\item 1\n",
       "\\item 1\n",
       "\\item 905\n",
       "\\item 1\n",
       "\\item 1\n",
       "\\item 1\n",
       "\\item 1\n",
       "\\item 1\n",
       "\\item 9\n",
       "\\item 7\n",
       "\\item 1\n",
       "\\item 3441115\n",
       "\\item 1\n",
       "\\item 55\n",
       "\\item 1\n",
       "\\item 1\n",
       "\\item 15\n",
       "\\item 1\n",
       "\\item 1\n",
       "\\item 259\n",
       "\\item 1\n",
       "\\item 1\n",
       "\\item 5\n",
       "\\item 1\n",
       "\\item 1\n",
       "\\end{enumerate*}\n"
      ],
      "text/markdown": [
       "1. 153\n",
       "2. 1\n",
       "3. 3\n",
       "4. 1\n",
       "5. 3\n",
       "6. 1\n",
       "7. 1\n",
       "8. 3\n",
       "9. 1\n",
       "10. 31\n",
       "11. 1\n",
       "12. 1\n",
       "13. 1\n",
       "14. 33\n",
       "15. 1\n",
       "16. 9\n",
       "17. 1261\n",
       "18. 29\n",
       "19. 1\n",
       "20. 379\n",
       "21. 1\n",
       "22. 5\n",
       "23. 1\n",
       "24. 1\n",
       "25. 9\n",
       "26. 11\n",
       "27. 1\n",
       "28. 1\n",
       "29. 2385\n",
       "30. 35\n",
       "31. 1\n",
       "32. 5\n",
       "33. 9\n",
       "34. 17\n",
       "35. 1\n",
       "36. 27\n",
       "37. 5\n",
       "38. 3\n",
       "39. 1\n",
       "40. 1\n",
       "41. 1\n",
       "42. 5\n",
       "43. 1\n",
       "44. 1\n",
       "45. 1\n",
       "46. 1\n",
       "47. 1\n",
       "48. 143\n",
       "49. 87\n",
       "50. 1\n",
       "51. 1\n",
       "52. 1\n",
       "53. 5\n",
       "54. 1\n",
       "55. 7\n",
       "56. 15\n",
       "57. 1\n",
       "58. 54535\n",
       "59. 5\n",
       "60. 1\n",
       "61. 1\n",
       "62. 5\n",
       "63. 1\n",
       "64. 41\n",
       "65. 1\n",
       "66. 1\n",
       "67. 1\n",
       "68. 1\n",
       "69. 1\n",
       "70. 1\n",
       "71. 35\n",
       "72. 9\n",
       "73. 287\n",
       "74. 1\n",
       "75. 29\n",
       "76. 1\n",
       "77. 1\n",
       "78. 905\n",
       "79. 1\n",
       "80. 1\n",
       "81. 1\n",
       "82. 1\n",
       "83. 1\n",
       "84. 9\n",
       "85. 7\n",
       "86. 1\n",
       "87. 3441115\n",
       "88. 1\n",
       "89. 55\n",
       "90. 1\n",
       "91. 1\n",
       "92. 15\n",
       "93. 1\n",
       "94. 1\n",
       "95. 259\n",
       "96. 1\n",
       "97. 1\n",
       "98. 5\n",
       "99. 1\n",
       "100. 1\n",
       "\n",
       "\n"
      ],
      "text/plain": [
       "  [1]     153       1       3       1       3       1       1       3       1\n",
       " [10]      31       1       1       1      33       1       9    1261      29\n",
       " [19]       1     379       1       5       1       1       9      11       1\n",
       " [28]       1    2385      35       1       5       9      17       1      27\n",
       " [37]       5       3       1       1       1       5       1       1       1\n",
       " [46]       1       1     143      87       1       1       1       5       1\n",
       " [55]       7      15       1   54535       5       1       1       5       1\n",
       " [64]      41       1       1       1       1       1       1      35       9\n",
       " [73]     287       1      29       1       1     905       1       1       1\n",
       " [82]       1       1       9       7       1 3441115       1      55       1\n",
       " [91]       1      15       1       1     259       1       1       5       1\n",
       "[100]       1"
      ]
     },
     "metadata": {},
     "output_type": "display_data"
    }
   ],
   "source": [
    "x = map_dbl(1:100, ~f())\n",
    "x"
   ]
  },
  {
   "cell_type": "markdown",
   "metadata": {},
   "source": [
    "## Q3: For Loops"
   ]
  },
  {
   "cell_type": "markdown",
   "metadata": {},
   "source": [
    "### 1. Compute the mean of every column in mtcars with na.rm argument being true"
   ]
  },
  {
   "cell_type": "code",
   "execution_count": 14,
   "metadata": {},
   "outputs": [
    {
     "data": {
      "text/html": [
       "<style>\n",
       ".list-inline {list-style: none; margin:0; padding: 0}\n",
       ".list-inline>li {display: inline-block}\n",
       ".list-inline>li:not(:last-child)::after {content: \"\\00b7\"; padding: 0 .5ex}\n",
       "</style>\n",
       "<ol class=list-inline><li>20.090625</li><li>6.1875</li><li>230.721875</li><li>146.6875</li><li>3.5965625</li><li>3.21725</li><li>17.84875</li><li>0.4375</li><li>0.40625</li><li>3.6875</li><li>2.8125</li></ol>\n"
      ],
      "text/latex": [
       "\\begin{enumerate*}\n",
       "\\item 20.090625\n",
       "\\item 6.1875\n",
       "\\item 230.721875\n",
       "\\item 146.6875\n",
       "\\item 3.5965625\n",
       "\\item 3.21725\n",
       "\\item 17.84875\n",
       "\\item 0.4375\n",
       "\\item 0.40625\n",
       "\\item 3.6875\n",
       "\\item 2.8125\n",
       "\\end{enumerate*}\n"
      ],
      "text/markdown": [
       "1. 20.090625\n",
       "2. 6.1875\n",
       "3. 230.721875\n",
       "4. 146.6875\n",
       "5. 3.5965625\n",
       "6. 3.21725\n",
       "7. 17.84875\n",
       "8. 0.4375\n",
       "9. 0.40625\n",
       "10. 3.6875\n",
       "11. 2.8125\n",
       "\n",
       "\n"
      ],
      "text/plain": [
       " [1]  20.090625   6.187500 230.721875 146.687500   3.596563   3.217250\n",
       " [7]  17.848750   0.437500   0.406250   3.687500   2.812500"
      ]
     },
     "metadata": {},
     "output_type": "display_data"
    }
   ],
   "source": [
    "mtcars_mean = vector('double')\n",
    "for (i in seq_along(mtcars)){\n",
    "    mtcars_mean[i] = mean(mtcars[[i]], na.rm = TRUE)\n",
    "}\n",
    "mtcars_mean"
   ]
  },
  {
   "cell_type": "markdown",
   "metadata": {},
   "source": [
    "### 2. Determine the type of each column of iris\n"
   ]
  },
  {
   "cell_type": "code",
   "execution_count": 15,
   "metadata": {},
   "outputs": [
    {
     "data": {
      "text/html": [
       "<style>\n",
       ".list-inline {list-style: none; margin:0; padding: 0}\n",
       ".list-inline>li {display: inline-block}\n",
       ".list-inline>li:not(:last-child)::after {content: \"\\00b7\"; padding: 0 .5ex}\n",
       "</style>\n",
       "<ol class=list-inline><li>'double'</li><li>'double'</li><li>'double'</li><li>'double'</li><li>'integer'</li></ol>\n"
      ],
      "text/latex": [
       "\\begin{enumerate*}\n",
       "\\item 'double'\n",
       "\\item 'double'\n",
       "\\item 'double'\n",
       "\\item 'double'\n",
       "\\item 'integer'\n",
       "\\end{enumerate*}\n"
      ],
      "text/markdown": [
       "1. 'double'\n",
       "2. 'double'\n",
       "3. 'double'\n",
       "4. 'double'\n",
       "5. 'integer'\n",
       "\n",
       "\n"
      ],
      "text/plain": [
       "[1] \"double\"  \"double\"  \"double\"  \"double\"  \"integer\""
      ]
     },
     "metadata": {},
     "output_type": "display_data"
    }
   ],
   "source": [
    "ftype = vector('character')\n",
    "for (i in seq_along(iris)){\n",
    "    ftype[i] = typeof(iris[[i]])\n",
    "}\n",
    "ftype"
   ]
  },
  {
   "cell_type": "markdown",
   "metadata": {},
   "source": [
    "### 3. Compute the number of unique values in each column of iris."
   ]
  },
  {
   "cell_type": "code",
   "execution_count": 16,
   "metadata": {},
   "outputs": [
    {
     "data": {
      "text/html": [
       "<style>\n",
       ".list-inline {list-style: none; margin:0; padding: 0}\n",
       ".list-inline>li {display: inline-block}\n",
       ".list-inline>li:not(:last-child)::after {content: \"\\00b7\"; padding: 0 .5ex}\n",
       "</style>\n",
       "<ol class=list-inline><li>35</li><li>23</li><li>43</li><li>22</li><li>3</li></ol>\n"
      ],
      "text/latex": [
       "\\begin{enumerate*}\n",
       "\\item 35\n",
       "\\item 23\n",
       "\\item 43\n",
       "\\item 22\n",
       "\\item 3\n",
       "\\end{enumerate*}\n"
      ],
      "text/markdown": [
       "1. 35\n",
       "2. 23\n",
       "3. 43\n",
       "4. 22\n",
       "5. 3\n",
       "\n",
       "\n"
      ],
      "text/plain": [
       "[1] 35 23 43 22  3"
      ]
     },
     "metadata": {},
     "output_type": "display_data"
    }
   ],
   "source": [
    "irisuniq = vector('integer')\n",
    "for (i in seq_along(iris)){\n",
    "    irisuniq[i] = length(unique(iris[[i]]))\n",
    "}\n",
    "irisuniq"
   ]
  },
  {
   "cell_type": "markdown",
   "metadata": {},
   "source": [
    "## Q4: repeat Q3 with map functions rather than loops and apply:"
   ]
  },
  {
   "cell_type": "code",
   "execution_count": 17,
   "metadata": {},
   "outputs": [
    {
     "data": {
      "text/html": [
       "<style>\n",
       ".dl-inline {width: auto; margin:0; padding: 0}\n",
       ".dl-inline>dt, .dl-inline>dd {float: none; width: auto; display: inline-block}\n",
       ".dl-inline>dt::after {content: \":\\0020\"; padding-right: .5ex}\n",
       ".dl-inline>dt:not(:first-of-type) {padding-left: .5ex}\n",
       "</style><dl class=dl-inline><dt>mpg</dt><dd>20.090625</dd><dt>cyl</dt><dd>6.1875</dd><dt>disp</dt><dd>230.721875</dd><dt>hp</dt><dd>146.6875</dd><dt>drat</dt><dd>3.5965625</dd><dt>wt</dt><dd>3.21725</dd><dt>qsec</dt><dd>17.84875</dd><dt>vs</dt><dd>0.4375</dd><dt>am</dt><dd>0.40625</dd><dt>gear</dt><dd>3.6875</dd><dt>carb</dt><dd>2.8125</dd></dl>\n"
      ],
      "text/latex": [
       "\\begin{description*}\n",
       "\\item[mpg] 20.090625\n",
       "\\item[cyl] 6.1875\n",
       "\\item[disp] 230.721875\n",
       "\\item[hp] 146.6875\n",
       "\\item[drat] 3.5965625\n",
       "\\item[wt] 3.21725\n",
       "\\item[qsec] 17.84875\n",
       "\\item[vs] 0.4375\n",
       "\\item[am] 0.40625\n",
       "\\item[gear] 3.6875\n",
       "\\item[carb] 2.8125\n",
       "\\end{description*}\n"
      ],
      "text/markdown": [
       "mpg\n",
       ":   20.090625cyl\n",
       ":   6.1875disp\n",
       ":   230.721875hp\n",
       ":   146.6875drat\n",
       ":   3.5965625wt\n",
       ":   3.21725qsec\n",
       ":   17.84875vs\n",
       ":   0.4375am\n",
       ":   0.40625gear\n",
       ":   3.6875carb\n",
       ":   2.8125\n",
       "\n"
      ],
      "text/plain": [
       "       mpg        cyl       disp         hp       drat         wt       qsec \n",
       " 20.090625   6.187500 230.721875 146.687500   3.596563   3.217250  17.848750 \n",
       "        vs         am       gear       carb \n",
       "  0.437500   0.406250   3.687500   2.812500 "
      ]
     },
     "metadata": {},
     "output_type": "display_data"
    },
    {
     "data": {
      "text/html": [
       "<style>\n",
       ".dl-inline {width: auto; margin:0; padding: 0}\n",
       ".dl-inline>dt, .dl-inline>dd {float: none; width: auto; display: inline-block}\n",
       ".dl-inline>dt::after {content: \":\\0020\"; padding-right: .5ex}\n",
       ".dl-inline>dt:not(:first-of-type) {padding-left: .5ex}\n",
       "</style><dl class=dl-inline><dt>Sepal.Length</dt><dd>'double'</dd><dt>Sepal.Width</dt><dd>'double'</dd><dt>Petal.Length</dt><dd>'double'</dd><dt>Petal.Width</dt><dd>'double'</dd><dt>Species</dt><dd>'integer'</dd></dl>\n"
      ],
      "text/latex": [
       "\\begin{description*}\n",
       "\\item[Sepal.Length] 'double'\n",
       "\\item[Sepal.Width] 'double'\n",
       "\\item[Petal.Length] 'double'\n",
       "\\item[Petal.Width] 'double'\n",
       "\\item[Species] 'integer'\n",
       "\\end{description*}\n"
      ],
      "text/markdown": [
       "Sepal.Length\n",
       ":   'double'Sepal.Width\n",
       ":   'double'Petal.Length\n",
       ":   'double'Petal.Width\n",
       ":   'double'Species\n",
       ":   'integer'\n",
       "\n"
      ],
      "text/plain": [
       "Sepal.Length  Sepal.Width Petal.Length  Petal.Width      Species \n",
       "    \"double\"     \"double\"     \"double\"     \"double\"    \"integer\" "
      ]
     },
     "metadata": {},
     "output_type": "display_data"
    },
    {
     "data": {
      "text/html": [
       "<style>\n",
       ".dl-inline {width: auto; margin:0; padding: 0}\n",
       ".dl-inline>dt, .dl-inline>dd {float: none; width: auto; display: inline-block}\n",
       ".dl-inline>dt::after {content: \":\\0020\"; padding-right: .5ex}\n",
       ".dl-inline>dt:not(:first-of-type) {padding-left: .5ex}\n",
       "</style><dl class=dl-inline><dt>Sepal.Length</dt><dd>35</dd><dt>Sepal.Width</dt><dd>23</dd><dt>Petal.Length</dt><dd>43</dd><dt>Petal.Width</dt><dd>22</dd><dt>Species</dt><dd>3</dd></dl>\n"
      ],
      "text/latex": [
       "\\begin{description*}\n",
       "\\item[Sepal.Length] 35\n",
       "\\item[Sepal.Width] 23\n",
       "\\item[Petal.Length] 43\n",
       "\\item[Petal.Width] 22\n",
       "\\item[Species] 3\n",
       "\\end{description*}\n"
      ],
      "text/markdown": [
       "Sepal.Length\n",
       ":   35Sepal.Width\n",
       ":   23Petal.Length\n",
       ":   43Petal.Width\n",
       ":   22Species\n",
       ":   3\n",
       "\n"
      ],
      "text/plain": [
       "Sepal.Length  Sepal.Width Petal.Length  Petal.Width      Species \n",
       "          35           23           43           22            3 "
      ]
     },
     "metadata": {},
     "output_type": "display_data"
    }
   ],
   "source": [
    "map_dbl(mtcars, mean, na.rm = T)\n",
    "\n",
    "map_chr(iris, typeof)\n",
    "\n",
    "map_int(iris, ~ length(unique(.)))"
   ]
  },
  {
   "cell_type": "markdown",
   "metadata": {},
   "source": [
    "## Q5: Writing functions (recursions):"
   ]
  },
  {
   "cell_type": "markdown",
   "metadata": {},
   "source": [
    "Factorials: $n! = n(n-1)(n-2)\\dots1$\\\n",
    "factorial(n) = n*factorial(n-1)\\\n",
    "Base case: factorial(0) = 1"
   ]
  },
  {
   "cell_type": "code",
   "execution_count": 18,
   "metadata": {},
   "outputs": [],
   "source": [
    "factorial = function(n){\n",
    "    if(n == 0){\n",
    "        return(1)\n",
    "    }else{\n",
    "        return(n*factorial(n-1))\n",
    "    }\n",
    "}"
   ]
  },
  {
   "cell_type": "code",
   "execution_count": 19,
   "metadata": {},
   "outputs": [
    {
     "data": {
      "text/html": [
       "2432902008176640000"
      ],
      "text/latex": [
       "2432902008176640000"
      ],
      "text/markdown": [
       "2432902008176640000"
      ],
      "text/plain": [
       "[1] 2.432902e+18"
      ]
     },
     "metadata": {},
     "output_type": "display_data"
    }
   ],
   "source": [
    "factorial(20)"
   ]
  },
  {
   "cell_type": "markdown",
   "metadata": {},
   "source": [
    "### 1. Suppose Joe wants to climb n stairs, at each step, Joe can climb 1 stair or 2 stairs; write a function to find out many different ways are there for Joe to climb n stairs. Example: if n=3, then Joe has 3 ways: (1,1,1), (1,2), and (2,1)."
   ]
  },
  {
   "cell_type": "markdown",
   "metadata": {},
   "source": [
    "If there are 10 stairs initially after 1 step there could be 9 or 8 stairs ahead. So the process restarts with 9 or 8 stair after one step. Let's suppose we have a function that calculates number of differen ways, call this function `nways`, `nways(10) = nways(9) + nways(8)`. In general `nways(n) = nways(n-1)+nways(n-2)`. How about if only 1 step left? Then there is just 1 way to climb it so `nways(1) = 1`. If it is 2 then, It can be (1,1) or (2). Therefore `nways(2) = 2` and `nways(1) =  1`"
   ]
  },
  {
   "cell_type": "code",
   "execution_count": 20,
   "metadata": {},
   "outputs": [
    {
     "data": {
      "text/html": [
       "10946"
      ],
      "text/latex": [
       "10946"
      ],
      "text/markdown": [
       "10946"
      ],
      "text/plain": [
       "[1] 10946"
      ]
     },
     "metadata": {},
     "output_type": "display_data"
    }
   ],
   "source": [
    "nways = function(n){\n",
    "    if (n == 1) return(1)\n",
    "    if (n == 2) return(2)\n",
    "    return(nways(n-1) + nways(n-2))\n",
    "}\n",
    "nways(20)"
   ]
  }
 ],
 "metadata": {
  "kernelspec": {
   "display_name": "R",
   "language": "R",
   "name": "ir"
  },
  "language_info": {
   "codemirror_mode": "r",
   "file_extension": ".r",
   "mimetype": "text/x-r-source",
   "name": "R",
   "pygments_lexer": "r",
   "version": "3.6.1"
  }
 },
 "nbformat": 4,
 "nbformat_minor": 2
}
